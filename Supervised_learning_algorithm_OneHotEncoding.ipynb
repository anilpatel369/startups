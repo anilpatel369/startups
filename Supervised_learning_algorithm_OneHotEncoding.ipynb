{
  "nbformat": 4,
  "nbformat_minor": 0,
  "metadata": {
    "colab": {
      "name": "Supervised_learning_algorithm_OneHotEncoding.ipynb",
      "provenance": [],
      "collapsed_sections": [],
      "toc_visible": true
    },
    "kernelspec": {
      "name": "python3",
      "display_name": "Python 3"
    }
  },
  "cells": [
    {
      "cell_type": "markdown",
      "metadata": {
        "id": "bmqc-tgqPPoR",
        "colab_type": "text"
      },
      "source": [
        "# Importing important libraries"
      ]
    },
    {
      "cell_type": "code",
      "metadata": {
        "id": "l1B2o7_OKUk0",
        "colab_type": "code",
        "colab": {}
      },
      "source": [
        "import numpy as np \n",
        "import pandas as pd \n",
        "import seaborn as sns \n",
        "import matplotlib.pyplot as plt"
      ],
      "execution_count": 0,
      "outputs": []
    },
    {
      "cell_type": "markdown",
      "metadata": {
        "id": "LEhd1fuMPYIX",
        "colab_type": "text"
      },
      "source": [
        "# Data Preprocessing"
      ]
    },
    {
      "cell_type": "code",
      "metadata": {
        "id": "2wsCXASoPXNq",
        "colab_type": "code",
        "outputId": "6c3db351-0c4d-4613-e1c4-c6d9e256262b",
        "colab": {
          "base_uri": "https://localhost:8080/",
          "height": 256
        }
      },
      "source": [
        "data = pd.read_excel('ML_project_final.xlsx')\n",
        "data.tail()"
      ],
      "execution_count": 0,
      "outputs": [
        {
          "output_type": "execute_result",
          "data": {
            "text/html": [
              "<div>\n",
              "<style scoped>\n",
              "    .dataframe tbody tr th:only-of-type {\n",
              "        vertical-align: middle;\n",
              "    }\n",
              "\n",
              "    .dataframe tbody tr th {\n",
              "        vertical-align: top;\n",
              "    }\n",
              "\n",
              "    .dataframe thead th {\n",
              "        text-align: right;\n",
              "    }\n",
              "</style>\n",
              "<table border=\"1\" class=\"dataframe\">\n",
              "  <thead>\n",
              "    <tr style=\"text-align: right;\">\n",
              "      <th></th>\n",
              "      <th>Company_id</th>\n",
              "      <th>Company_Status</th>\n",
              "      <th>Age_of_company_in_years</th>\n",
              "      <th>Internet_activity_Score</th>\n",
              "      <th>Focus_function</th>\n",
              "      <th>Total_investors</th>\n",
              "      <th>Employee_Count</th>\n",
              "      <th>Has_the_team_size_grown</th>\n",
              "      <th>Last_Funding_Amount</th>\n",
              "      <th>Continent_of_company</th>\n",
              "      <th>Number_of_Investors_in_Seed</th>\n",
              "      <th>Number_of_Investors_in_Angel_andor_VC</th>\n",
              "      <th>Number_of_Cofounders</th>\n",
              "      <th>Number_of_advisors</th>\n",
              "      <th>Team_size_Senior_leadership</th>\n",
              "      <th>Team_size_all_employees</th>\n",
              "      <th>Presenceofatopangelorventurefundinpreviousroundofinvestment</th>\n",
              "      <th>Numberofofrepeatinvestors</th>\n",
              "      <th>NumberofSalesSupportmaterialL</th>\n",
              "      <th>Workedintopcompanies</th>\n",
              "      <th>AveragesizeofcompaniesworkedforinthepastL</th>\n",
              "      <th>Havebeenpartofstartupsinthepast</th>\n",
              "      <th>Havebeenpartofsuccessfulstartupsinthepast</th>\n",
              "      <th>WasheorshepartnerinBig5consulting</th>\n",
              "      <th>Consultingexperience</th>\n",
              "      <th>Productorservicecompany</th>\n",
              "      <th>Cateringtoproductserviceacrossverticals</th>\n",
              "      <th>Focusonprivateorpublicdata</th>\n",
              "      <th>Focusonconsumerdata</th>\n",
              "      <th>Focusonstructuredorunstructureddata</th>\n",
              "      <th>Subscriptionbasedbusiness</th>\n",
              "      <th>Cloudorplatformbasedseriveproduct</th>\n",
              "      <th>Localorglobalplayer</th>\n",
              "      <th>LinearorNonlinearbusinessmodel</th>\n",
              "      <th>Capitalintensivebusiness</th>\n",
              "      <th>NumberofofPartnersofcompanyL</th>\n",
              "      <th>Crowdsourcingbasedbusiness</th>\n",
              "      <th>Crowdfundingbasedbusiness</th>\n",
              "      <th>MachineLearningbasedbusiness</th>\n",
              "      <th>PredictiveAnalyticsbusiness</th>\n",
              "      <th>...</th>\n",
              "      <th>HighesteducationL</th>\n",
              "      <th>Yearsofeducation</th>\n",
              "      <th>Relevanceofeducationtoventure</th>\n",
              "      <th>Relevanceofexperiencetoventure</th>\n",
              "      <th>DegreefromaTier1orTier2university</th>\n",
              "      <th>Renownedinprofessionalcircle</th>\n",
              "      <th>ExperienceinsellingandbuildingproductsL</th>\n",
              "      <th>ExperienceinFortune100organizations</th>\n",
              "      <th>ExperienceinFortune500organizations</th>\n",
              "      <th>ExperienceinFortune1000organizations</th>\n",
              "      <th>TopmanagementsimilarityL</th>\n",
              "      <th>NumberofRecognitionsforFoundersandCofounders</th>\n",
              "      <th>NumberofResearchpublicationsL</th>\n",
              "      <th>Skillsscore</th>\n",
              "      <th>TeamCompositionscoreL</th>\n",
              "      <th>DificultyofObtainingWorkforceL</th>\n",
              "      <th>PricingStrategy</th>\n",
              "      <th>Hyperlocalisation</th>\n",
              "      <th>Timetomarketserviceorproduct</th>\n",
              "      <th>Longtermrelationshipwithotherfounders</th>\n",
              "      <th>Proprietaryorpatentpositioncompetitiveposition</th>\n",
              "      <th>Barriersofentryforthecompetitors</th>\n",
              "      <th>Companyawards</th>\n",
              "      <th>Controversialhistoryoffounderorcofounder</th>\n",
              "      <th>Legalriskandintellectualproperty</th>\n",
              "      <th>googlepagerankofcompanywebsite</th>\n",
              "      <th>Technicalproficienciestoanalyseandinterpretunstructureddata</th>\n",
              "      <th>Solutionsoffered</th>\n",
              "      <th>Investedthroughglobalincubationcompetitions</th>\n",
              "      <th>Industrytrendininvesting</th>\n",
              "      <th>DisruptivenessoftechnologyL</th>\n",
              "      <th>NumberofDirectcompetitors</th>\n",
              "      <th>Employeesperyearofcompanyexistence</th>\n",
              "      <th>LastroundoffundingreceivedinmilionUSD</th>\n",
              "      <th>Survivalthroughrecessionbasedonexistenceofthecompanythroughreces</th>\n",
              "      <th>Timeto1stinvestmentinmonths</th>\n",
              "      <th>Avgtimetoinvestmentaverageacrossallroundsmeasuredfrompreviousinv</th>\n",
              "      <th>Gartnerhypecyclestage</th>\n",
              "      <th>Timetomaturityoftechnologyinyears</th>\n",
              "      <th>Renownscore</th>\n",
              "    </tr>\n",
              "  </thead>\n",
              "  <tbody>\n",
              "    <tr>\n",
              "      <th>467</th>\n",
              "      <td>468</td>\n",
              "      <td>0</td>\n",
              "      <td>3.000000</td>\n",
              "      <td>-5.000000</td>\n",
              "      <td>3</td>\n",
              "      <td>1.960045</td>\n",
              "      <td>-20.691802</td>\n",
              "      <td>0</td>\n",
              "      <td>6.585624e+05</td>\n",
              "      <td>1</td>\n",
              "      <td>0.000000</td>\n",
              "      <td>0.000000</td>\n",
              "      <td>0</td>\n",
              "      <td>0</td>\n",
              "      <td>1</td>\n",
              "      <td>1.198368</td>\n",
              "      <td>0</td>\n",
              "      <td>0.000000</td>\n",
              "      <td>1</td>\n",
              "      <td>0</td>\n",
              "      <td>1</td>\n",
              "      <td>1</td>\n",
              "      <td>1</td>\n",
              "      <td>0</td>\n",
              "      <td>0</td>\n",
              "      <td>1</td>\n",
              "      <td>1</td>\n",
              "      <td>0</td>\n",
              "      <td>0</td>\n",
              "      <td>3</td>\n",
              "      <td>0</td>\n",
              "      <td>2</td>\n",
              "      <td>1</td>\n",
              "      <td>2</td>\n",
              "      <td>0</td>\n",
              "      <td>0.165073</td>\n",
              "      <td>0</td>\n",
              "      <td>0</td>\n",
              "      <td>0</td>\n",
              "      <td>0</td>\n",
              "      <td>...</td>\n",
              "      <td>1</td>\n",
              "      <td>19.993955</td>\n",
              "      <td>1</td>\n",
              "      <td>1</td>\n",
              "      <td>0</td>\n",
              "      <td>461.795809</td>\n",
              "      <td>2</td>\n",
              "      <td>0</td>\n",
              "      <td>0</td>\n",
              "      <td>0</td>\n",
              "      <td>0</td>\n",
              "      <td>45.941573</td>\n",
              "      <td>0</td>\n",
              "      <td>19.688125</td>\n",
              "      <td>1</td>\n",
              "      <td>1</td>\n",
              "      <td>0</td>\n",
              "      <td>0</td>\n",
              "      <td>1</td>\n",
              "      <td>0</td>\n",
              "      <td>0</td>\n",
              "      <td>1</td>\n",
              "      <td>0</td>\n",
              "      <td>0</td>\n",
              "      <td>0</td>\n",
              "      <td>4.686764e+06</td>\n",
              "      <td>0</td>\n",
              "      <td>1</td>\n",
              "      <td>0</td>\n",
              "      <td>3</td>\n",
              "      <td>2</td>\n",
              "      <td>2.810880</td>\n",
              "      <td>4.382598</td>\n",
              "      <td>0.336817</td>\n",
              "      <td>2</td>\n",
              "      <td>3.534170</td>\n",
              "      <td>6.194215</td>\n",
              "      <td>5</td>\n",
              "      <td>2</td>\n",
              "      <td>1.986091</td>\n",
              "    </tr>\n",
              "    <tr>\n",
              "      <th>468</th>\n",
              "      <td>469</td>\n",
              "      <td>0</td>\n",
              "      <td>4.850063</td>\n",
              "      <td>6.993298</td>\n",
              "      <td>1</td>\n",
              "      <td>3.558150</td>\n",
              "      <td>-4.412020</td>\n",
              "      <td>0</td>\n",
              "      <td>2.129869e+06</td>\n",
              "      <td>1</td>\n",
              "      <td>0.000000</td>\n",
              "      <td>4.000000</td>\n",
              "      <td>0</td>\n",
              "      <td>0</td>\n",
              "      <td>1</td>\n",
              "      <td>20.340732</td>\n",
              "      <td>0</td>\n",
              "      <td>0.000000</td>\n",
              "      <td>1</td>\n",
              "      <td>0</td>\n",
              "      <td>1</td>\n",
              "      <td>1</td>\n",
              "      <td>1</td>\n",
              "      <td>0</td>\n",
              "      <td>0</td>\n",
              "      <td>2</td>\n",
              "      <td>0</td>\n",
              "      <td>0</td>\n",
              "      <td>0</td>\n",
              "      <td>3</td>\n",
              "      <td>0</td>\n",
              "      <td>2</td>\n",
              "      <td>2</td>\n",
              "      <td>1</td>\n",
              "      <td>1</td>\n",
              "      <td>0.111711</td>\n",
              "      <td>0</td>\n",
              "      <td>0</td>\n",
              "      <td>0</td>\n",
              "      <td>0</td>\n",
              "      <td>...</td>\n",
              "      <td>1</td>\n",
              "      <td>20.657823</td>\n",
              "      <td>1</td>\n",
              "      <td>1</td>\n",
              "      <td>0</td>\n",
              "      <td>444.171451</td>\n",
              "      <td>2</td>\n",
              "      <td>0</td>\n",
              "      <td>0</td>\n",
              "      <td>0</td>\n",
              "      <td>0</td>\n",
              "      <td>53.091021</td>\n",
              "      <td>0</td>\n",
              "      <td>17.910411</td>\n",
              "      <td>1</td>\n",
              "      <td>1</td>\n",
              "      <td>0</td>\n",
              "      <td>0</td>\n",
              "      <td>1</td>\n",
              "      <td>0</td>\n",
              "      <td>0</td>\n",
              "      <td>1</td>\n",
              "      <td>0</td>\n",
              "      <td>0</td>\n",
              "      <td>0</td>\n",
              "      <td>4.064527e+06</td>\n",
              "      <td>0</td>\n",
              "      <td>1</td>\n",
              "      <td>0</td>\n",
              "      <td>3</td>\n",
              "      <td>2</td>\n",
              "      <td>1.437588</td>\n",
              "      <td>2.810184</td>\n",
              "      <td>1.548642</td>\n",
              "      <td>2</td>\n",
              "      <td>11.186490</td>\n",
              "      <td>9.366353</td>\n",
              "      <td>5</td>\n",
              "      <td>2</td>\n",
              "      <td>0.000000</td>\n",
              "    </tr>\n",
              "    <tr>\n",
              "      <th>469</th>\n",
              "      <td>470</td>\n",
              "      <td>0</td>\n",
              "      <td>4.000000</td>\n",
              "      <td>0.000000</td>\n",
              "      <td>1</td>\n",
              "      <td>3.185666</td>\n",
              "      <td>0.000000</td>\n",
              "      <td>0</td>\n",
              "      <td>1.882888e+06</td>\n",
              "      <td>1</td>\n",
              "      <td>1.636609</td>\n",
              "      <td>0.431258</td>\n",
              "      <td>2</td>\n",
              "      <td>0</td>\n",
              "      <td>1</td>\n",
              "      <td>33.139739</td>\n",
              "      <td>0</td>\n",
              "      <td>0.334441</td>\n",
              "      <td>1</td>\n",
              "      <td>0</td>\n",
              "      <td>1</td>\n",
              "      <td>1</td>\n",
              "      <td>1</td>\n",
              "      <td>0</td>\n",
              "      <td>0</td>\n",
              "      <td>2</td>\n",
              "      <td>0</td>\n",
              "      <td>3</td>\n",
              "      <td>0</td>\n",
              "      <td>3</td>\n",
              "      <td>1</td>\n",
              "      <td>1</td>\n",
              "      <td>2</td>\n",
              "      <td>2</td>\n",
              "      <td>0</td>\n",
              "      <td>0.094998</td>\n",
              "      <td>0</td>\n",
              "      <td>0</td>\n",
              "      <td>1</td>\n",
              "      <td>1</td>\n",
              "      <td>...</td>\n",
              "      <td>1</td>\n",
              "      <td>19.697473</td>\n",
              "      <td>1</td>\n",
              "      <td>1</td>\n",
              "      <td>0</td>\n",
              "      <td>452.001491</td>\n",
              "      <td>2</td>\n",
              "      <td>0</td>\n",
              "      <td>0</td>\n",
              "      <td>0</td>\n",
              "      <td>0</td>\n",
              "      <td>63.872531</td>\n",
              "      <td>0</td>\n",
              "      <td>21.483696</td>\n",
              "      <td>1</td>\n",
              "      <td>1</td>\n",
              "      <td>0</td>\n",
              "      <td>0</td>\n",
              "      <td>1</td>\n",
              "      <td>0</td>\n",
              "      <td>0</td>\n",
              "      <td>1</td>\n",
              "      <td>0</td>\n",
              "      <td>0</td>\n",
              "      <td>0</td>\n",
              "      <td>3.958436e+06</td>\n",
              "      <td>0</td>\n",
              "      <td>1</td>\n",
              "      <td>0</td>\n",
              "      <td>3</td>\n",
              "      <td>2</td>\n",
              "      <td>2.368289</td>\n",
              "      <td>8.401463</td>\n",
              "      <td>1.767919</td>\n",
              "      <td>2</td>\n",
              "      <td>8.041912</td>\n",
              "      <td>8.831707</td>\n",
              "      <td>5</td>\n",
              "      <td>2</td>\n",
              "      <td>3.018497</td>\n",
              "    </tr>\n",
              "    <tr>\n",
              "      <th>470</th>\n",
              "      <td>471</td>\n",
              "      <td>0</td>\n",
              "      <td>5.000000</td>\n",
              "      <td>0.000000</td>\n",
              "      <td>5</td>\n",
              "      <td>3.027159</td>\n",
              "      <td>-7.925634</td>\n",
              "      <td>0</td>\n",
              "      <td>1.000000e+05</td>\n",
              "      <td>1</td>\n",
              "      <td>1.682614</td>\n",
              "      <td>0.346231</td>\n",
              "      <td>3</td>\n",
              "      <td>2</td>\n",
              "      <td>1</td>\n",
              "      <td>-55.166615</td>\n",
              "      <td>0</td>\n",
              "      <td>0.885422</td>\n",
              "      <td>1</td>\n",
              "      <td>0</td>\n",
              "      <td>1</td>\n",
              "      <td>1</td>\n",
              "      <td>1</td>\n",
              "      <td>0</td>\n",
              "      <td>0</td>\n",
              "      <td>2</td>\n",
              "      <td>1</td>\n",
              "      <td>3</td>\n",
              "      <td>0</td>\n",
              "      <td>3</td>\n",
              "      <td>1</td>\n",
              "      <td>1</td>\n",
              "      <td>2</td>\n",
              "      <td>1</td>\n",
              "      <td>0</td>\n",
              "      <td>0.050810</td>\n",
              "      <td>0</td>\n",
              "      <td>0</td>\n",
              "      <td>1</td>\n",
              "      <td>1</td>\n",
              "      <td>...</td>\n",
              "      <td>1</td>\n",
              "      <td>19.582242</td>\n",
              "      <td>1</td>\n",
              "      <td>1</td>\n",
              "      <td>0</td>\n",
              "      <td>450.810267</td>\n",
              "      <td>2</td>\n",
              "      <td>0</td>\n",
              "      <td>0</td>\n",
              "      <td>0</td>\n",
              "      <td>0</td>\n",
              "      <td>77.290067</td>\n",
              "      <td>0</td>\n",
              "      <td>22.016017</td>\n",
              "      <td>1</td>\n",
              "      <td>1</td>\n",
              "      <td>0</td>\n",
              "      <td>0</td>\n",
              "      <td>1</td>\n",
              "      <td>0</td>\n",
              "      <td>0</td>\n",
              "      <td>1</td>\n",
              "      <td>0</td>\n",
              "      <td>0</td>\n",
              "      <td>0</td>\n",
              "      <td>4.154496e+06</td>\n",
              "      <td>0</td>\n",
              "      <td>1</td>\n",
              "      <td>0</td>\n",
              "      <td>3</td>\n",
              "      <td>2</td>\n",
              "      <td>2.024996</td>\n",
              "      <td>-5.350055</td>\n",
              "      <td>0.267160</td>\n",
              "      <td>2</td>\n",
              "      <td>11.989483</td>\n",
              "      <td>9.142877</td>\n",
              "      <td>5</td>\n",
              "      <td>2</td>\n",
              "      <td>3.905644</td>\n",
              "    </tr>\n",
              "    <tr>\n",
              "      <th>471</th>\n",
              "      <td>472</td>\n",
              "      <td>0</td>\n",
              "      <td>1.000000</td>\n",
              "      <td>11.000000</td>\n",
              "      <td>1</td>\n",
              "      <td>2.000000</td>\n",
              "      <td>-34.330370</td>\n",
              "      <td>0</td>\n",
              "      <td>1.200000e+05</td>\n",
              "      <td>1</td>\n",
              "      <td>0.000000</td>\n",
              "      <td>0.000000</td>\n",
              "      <td>3</td>\n",
              "      <td>0</td>\n",
              "      <td>1</td>\n",
              "      <td>-56.827979</td>\n",
              "      <td>0</td>\n",
              "      <td>1.000000</td>\n",
              "      <td>1</td>\n",
              "      <td>0</td>\n",
              "      <td>1</td>\n",
              "      <td>1</td>\n",
              "      <td>1</td>\n",
              "      <td>0</td>\n",
              "      <td>0</td>\n",
              "      <td>1</td>\n",
              "      <td>1</td>\n",
              "      <td>3</td>\n",
              "      <td>0</td>\n",
              "      <td>2</td>\n",
              "      <td>1</td>\n",
              "      <td>0</td>\n",
              "      <td>2</td>\n",
              "      <td>2</td>\n",
              "      <td>0</td>\n",
              "      <td>0.084478</td>\n",
              "      <td>0</td>\n",
              "      <td>0</td>\n",
              "      <td>1</td>\n",
              "      <td>1</td>\n",
              "      <td>...</td>\n",
              "      <td>1</td>\n",
              "      <td>19.632104</td>\n",
              "      <td>1</td>\n",
              "      <td>1</td>\n",
              "      <td>0</td>\n",
              "      <td>447.784022</td>\n",
              "      <td>2</td>\n",
              "      <td>0</td>\n",
              "      <td>0</td>\n",
              "      <td>0</td>\n",
              "      <td>0</td>\n",
              "      <td>58.897627</td>\n",
              "      <td>0</td>\n",
              "      <td>20.575345</td>\n",
              "      <td>1</td>\n",
              "      <td>1</td>\n",
              "      <td>0</td>\n",
              "      <td>0</td>\n",
              "      <td>1</td>\n",
              "      <td>0</td>\n",
              "      <td>0</td>\n",
              "      <td>1</td>\n",
              "      <td>0</td>\n",
              "      <td>0</td>\n",
              "      <td>0</td>\n",
              "      <td>3.454981e+06</td>\n",
              "      <td>0</td>\n",
              "      <td>1</td>\n",
              "      <td>0</td>\n",
              "      <td>3</td>\n",
              "      <td>2</td>\n",
              "      <td>2.962571</td>\n",
              "      <td>4.023156</td>\n",
              "      <td>0.360535</td>\n",
              "      <td>2</td>\n",
              "      <td>-6.730279</td>\n",
              "      <td>1.374036</td>\n",
              "      <td>5</td>\n",
              "      <td>2</td>\n",
              "      <td>3.110973</td>\n",
              "    </tr>\n",
              "  </tbody>\n",
              "</table>\n",
              "<p>5 rows × 92 columns</p>\n",
              "</div>"
            ],
            "text/plain": [
              "     Company_id  Company_Status  ...  Timetomaturityoftechnologyinyears  Renownscore\n",
              "467         468               0  ...                                  2     1.986091\n",
              "468         469               0  ...                                  2     0.000000\n",
              "469         470               0  ...                                  2     3.018497\n",
              "470         471               0  ...                                  2     3.905644\n",
              "471         472               0  ...                                  2     3.110973\n",
              "\n",
              "[5 rows x 92 columns]"
            ]
          },
          "metadata": {
            "tags": []
          },
          "execution_count": 2
        }
      ]
    },
    {
      "cell_type": "code",
      "metadata": {
        "id": "TL4yMg6zPkAJ",
        "colab_type": "code",
        "outputId": "52e2e8c4-157c-4de5-dbd3-fb54829f177a",
        "colab": {
          "base_uri": "https://localhost:8080/",
          "height": 36
        }
      },
      "source": [
        "data.shape"
      ],
      "execution_count": 0,
      "outputs": [
        {
          "output_type": "execute_result",
          "data": {
            "text/plain": [
              "(472, 92)"
            ]
          },
          "metadata": {
            "tags": []
          },
          "execution_count": 3
        }
      ]
    },
    {
      "cell_type": "code",
      "metadata": {
        "id": "7w2ef_jtQVro",
        "colab_type": "code",
        "outputId": "6c1c8743-8cff-4cb2-9fb2-2b726b679952",
        "colab": {
          "base_uri": "https://localhost:8080/",
          "height": 245
        }
      },
      "source": [
        "# %of null vales in dataset\n",
        "(data.isnull().sum()/data.shape[0])*100\n"
      ],
      "execution_count": 0,
      "outputs": [
        {
          "output_type": "execute_result",
          "data": {
            "text/plain": [
              "Company_id                                                          0.0\n",
              "Company_Status                                                      0.0\n",
              "Age_of_company_in_years                                             0.0\n",
              "Internet_activity_Score                                             0.0\n",
              "Focus_function                                                      0.0\n",
              "                                                                   ... \n",
              "Timeto1stinvestmentinmonths                                         0.0\n",
              "Avgtimetoinvestmentaverageacrossallroundsmeasuredfrompreviousinv    0.0\n",
              "Gartnerhypecyclestage                                               0.0\n",
              "Timetomaturityoftechnologyinyears                                   0.0\n",
              "Renownscore                                                         0.0\n",
              "Length: 92, dtype: float64"
            ]
          },
          "metadata": {
            "tags": []
          },
          "execution_count": 4
        }
      ]
    },
    {
      "cell_type": "markdown",
      "metadata": {
        "id": "S92_lZ-sRHcx",
        "colab_type": "text"
      },
      "source": [
        "It seems data has no more missing values...so we can proceed"
      ]
    },
    {
      "cell_type": "code",
      "metadata": {
        "id": "UMiqqmv9RRg9",
        "colab_type": "code",
        "colab": {}
      },
      "source": [
        "X = data.drop(['Company_Status','Company_id'], axis=1)"
      ],
      "execution_count": 0,
      "outputs": []
    },
    {
      "cell_type": "code",
      "metadata": {
        "id": "4lAIbsIfRaFG",
        "colab_type": "code",
        "outputId": "02ac67e1-0050-4b89-8b6d-aaf04fba6374",
        "colab": {
          "base_uri": "https://localhost:8080/",
          "height": 36
        }
      },
      "source": [
        "X.shape"
      ],
      "execution_count": 0,
      "outputs": [
        {
          "output_type": "execute_result",
          "data": {
            "text/plain": [
              "(472, 90)"
            ]
          },
          "metadata": {
            "tags": []
          },
          "execution_count": 6
        }
      ]
    },
    {
      "cell_type": "code",
      "metadata": {
        "id": "nVOzOzFSRbRI",
        "colab_type": "code",
        "outputId": "5d00d3df-3a79-4bc7-ad31-3cb9e58977b7",
        "colab": {
          "base_uri": "https://localhost:8080/",
          "height": 36
        }
      },
      "source": [
        "y = data['Company_Status']\n",
        "y.shape"
      ],
      "execution_count": 0,
      "outputs": [
        {
          "output_type": "execute_result",
          "data": {
            "text/plain": [
              "(472,)"
            ]
          },
          "metadata": {
            "tags": []
          },
          "execution_count": 7
        }
      ]
    },
    {
      "cell_type": "markdown",
      "metadata": {
        "id": "7YghoCFkMxe5",
        "colab_type": "text"
      },
      "source": [
        "# Features_importance using RandomForestClassifier"
      ]
    },
    {
      "cell_type": "markdown",
      "metadata": {
        "id": "B52oDdHhSCrw",
        "colab_type": "text"
      },
      "source": [
        "Let's get feature importance of all 90 columns using RandomForest classifier "
      ]
    },
    {
      "cell_type": "code",
      "metadata": {
        "id": "sIElGVUGSQ-o",
        "colab_type": "code",
        "colab": {}
      },
      "source": [
        "from sklearn.ensemble import RandomForestClassifier\n",
        "model = RandomForestClassifier(random_state=10)\n"
      ],
      "execution_count": 0,
      "outputs": []
    },
    {
      "cell_type": "code",
      "metadata": {
        "id": "HB2aO_FwSWTW",
        "colab_type": "code",
        "outputId": "a1d64e47-fd6e-4586-ab76-b7121f93e7c8",
        "colab": {
          "base_uri": "https://localhost:8080/",
          "height": 94
        }
      },
      "source": [
        "model.fit(X,y)\n",
        "model.score(X,y)"
      ],
      "execution_count": 0,
      "outputs": [
        {
          "output_type": "stream",
          "text": [
            "/usr/local/lib/python3.6/dist-packages/sklearn/ensemble/forest.py:245: FutureWarning: The default value of n_estimators will change from 10 in version 0.20 to 100 in 0.22.\n",
            "  \"10 in version 0.20 to 100 in 0.22.\", FutureWarning)\n"
          ],
          "name": "stderr"
        },
        {
          "output_type": "execute_result",
          "data": {
            "text/plain": [
              "0.9957627118644068"
            ]
          },
          "metadata": {
            "tags": []
          },
          "execution_count": 9
        }
      ]
    },
    {
      "cell_type": "code",
      "metadata": {
        "id": "D7ORf-sgSZ84",
        "colab_type": "code",
        "outputId": "43a6be73-4802-4aa7-ed7d-914325154273",
        "colab": {
          "base_uri": "https://localhost:8080/",
          "height": 36
        }
      },
      "source": [
        "feature_importances_rf = pd.DataFrame(model.feature_importances_, index = X.columns,columns=['importance']).sort_values('importance',ascending=False)\n",
        "feature_importances_rf.shape"
      ],
      "execution_count": 0,
      "outputs": [
        {
          "output_type": "execute_result",
          "data": {
            "text/plain": [
              "(90, 1)"
            ]
          },
          "metadata": {
            "tags": []
          },
          "execution_count": 10
        }
      ]
    },
    {
      "cell_type": "code",
      "metadata": {
        "id": "16y-WkuuTKao",
        "colab_type": "code",
        "outputId": "2336009f-650d-4045-fe5b-47419ef1387c",
        "colab": {
          "base_uri": "https://localhost:8080/",
          "height": 206
        }
      },
      "source": [
        "feature_importances_rf.head()"
      ],
      "execution_count": 0,
      "outputs": [
        {
          "output_type": "execute_result",
          "data": {
            "text/html": [
              "<div>\n",
              "<style scoped>\n",
              "    .dataframe tbody tr th:only-of-type {\n",
              "        vertical-align: middle;\n",
              "    }\n",
              "\n",
              "    .dataframe tbody tr th {\n",
              "        vertical-align: top;\n",
              "    }\n",
              "\n",
              "    .dataframe thead th {\n",
              "        text-align: right;\n",
              "    }\n",
              "</style>\n",
              "<table border=\"1\" class=\"dataframe\">\n",
              "  <thead>\n",
              "    <tr style=\"text-align: right;\">\n",
              "      <th></th>\n",
              "      <th>importance</th>\n",
              "    </tr>\n",
              "  </thead>\n",
              "  <tbody>\n",
              "    <tr>\n",
              "      <th>DificultyofObtainingWorkforceL</th>\n",
              "      <td>0.085489</td>\n",
              "    </tr>\n",
              "    <tr>\n",
              "      <th>Gartnerhypecyclestage</th>\n",
              "      <td>0.055829</td>\n",
              "    </tr>\n",
              "    <tr>\n",
              "      <th>Age_of_company_in_years</th>\n",
              "      <td>0.054118</td>\n",
              "    </tr>\n",
              "    <tr>\n",
              "      <th>Renownedinprofessionalcircle</th>\n",
              "      <td>0.048089</td>\n",
              "    </tr>\n",
              "    <tr>\n",
              "      <th>googlepagerankofcompanywebsite</th>\n",
              "      <td>0.042484</td>\n",
              "    </tr>\n",
              "  </tbody>\n",
              "</table>\n",
              "</div>"
            ],
            "text/plain": [
              "                                importance\n",
              "DificultyofObtainingWorkforceL    0.085489\n",
              "Gartnerhypecyclestage             0.055829\n",
              "Age_of_company_in_years           0.054118\n",
              "Renownedinprofessionalcircle      0.048089\n",
              "googlepagerankofcompanywebsite    0.042484"
            ]
          },
          "metadata": {
            "tags": []
          },
          "execution_count": 11
        }
      ]
    },
    {
      "cell_type": "code",
      "metadata": {
        "id": "gkK8sxMUTcSx",
        "colab_type": "code",
        "outputId": "733ad8eb-7f51-4dea-bb40-8b3ccc95049e",
        "colab": {
          "base_uri": "https://localhost:8080/",
          "height": 188
        }
      },
      "source": [
        "percent_importance_rf = []\n",
        "a=0\n",
        "for i in [10,20,30,40,50,60,70,80,90]:\n",
        "  percent_importance_rf.append(feature_importances_rf.importance.head(i).sum())\n",
        "  print(f\"For {i} features-> {percent_importance_rf[int(a)]}\")\n",
        "  a=a+1"
      ],
      "execution_count": 0,
      "outputs": [
        {
          "output_type": "stream",
          "text": [
            "For 10 features-> 0.43571614259666847\n",
            "For 20 features-> 0.6443521911613754\n",
            "For 30 features-> 0.7843701481989633\n",
            "For 40 features-> 0.8634114081827395\n",
            "For 50 features-> 0.916100573378795\n",
            "For 60 features-> 0.9582686594237365\n",
            "For 70 features-> 0.9850426291360431\n",
            "For 80 features-> 0.9989759017615703\n",
            "For 90 features-> 1.0\n"
          ],
          "name": "stdout"
        }
      ]
    },
    {
      "cell_type": "markdown",
      "metadata": {
        "id": "0jsgKCaSWJjZ",
        "colab_type": "text"
      },
      "source": [
        "Let's visualise the importance of features graphically"
      ]
    },
    {
      "cell_type": "code",
      "metadata": {
        "id": "uFZ4HHk7T5Ks",
        "colab_type": "code",
        "outputId": "30d423fa-6292-43f3-9ee7-c900185520f7",
        "colab": {
          "base_uri": "https://localhost:8080/",
          "height": 295
        }
      },
      "source": [
        "x_axis = [10,20,30,40,50,60,70,80,90]\n",
        "y_axis = percent_importance_rf\n",
        "plt.plot(x_axis, y_axis)\n",
        "plt.grid()\n",
        "plt.xlabel('Number of features')\n",
        "plt.ylabel('Features importance')\n",
        "plt.title(\"Cumulative Features_imp using Random Forest\")\n",
        "plt.show()"
      ],
      "execution_count": 0,
      "outputs": [
        {
          "output_type": "display_data",
          "data": {
            "image/png": "[encoded data removed]",
            "text/plain": [
              "<Figure size 432x288 with 1 Axes>"
            ]
          },
          "metadata": {
            "tags": []
          }
        }
      ]
    },
    {
      "cell_type": "code",
      "metadata": {
        "id": "Wyejs1L4Q0el",
        "colab_type": "code",
        "colab": {}
      },
      "source": [
        "feature_importances_rf.to_excel('FI_rf.xlsx')"
      ],
      "execution_count": 0,
      "outputs": []
    },
    {
      "cell_type": "markdown",
      "metadata": {
        "id": "oKBqODCLQXeu",
        "colab_type": "text"
      },
      "source": [
        "# Features_importance using XGBoostClassifier"
      ]
    },
    {
      "cell_type": "code",
      "metadata": {
        "id": "SDzzoRpOQfj2",
        "colab_type": "code",
        "outputId": "a9f64080-a2aa-47cc-93c0-6c29fd55042a",
        "colab": {
          "base_uri": "https://localhost:8080/",
          "height": 36
        }
      },
      "source": [
        "from xgboost import XGBClassifier\n",
        "\n",
        "xgb_clf = XGBClassifier()\n",
        "xgb_clf.fit(X, y)\n",
        "xgb_clf.score(X,y)"
      ],
      "execution_count": 0,
      "outputs": [
        {
          "output_type": "execute_result",
          "data": {
            "text/plain": [
              "1.0"
            ]
          },
          "metadata": {
            "tags": []
          },
          "execution_count": 15
        }
      ]
    },
    {
      "cell_type": "code",
      "metadata": {
        "id": "yLcNb63JQfzX",
        "colab_type": "code",
        "outputId": "7ef05e9b-ba64-43e2-a792-ae6d9c49bcd6",
        "colab": {
          "base_uri": "https://localhost:8080/",
          "height": 206
        }
      },
      "source": [
        "importances_xbg = xgb_clf.feature_importances_\n",
        "\n",
        "feature_importances_xgb = pd.DataFrame(xgb_clf.feature_importances_,\n",
        "                                   index = X.columns,\n",
        "                                    columns=['importance']).sort_values('importance',ascending=False)\n",
        "                                  \n",
        "feature_importances_xgb.head()"
      ],
      "execution_count": 0,
      "outputs": [
        {
          "output_type": "execute_result",
          "data": {
            "text/html": [
              "<div>\n",
              "<style scoped>\n",
              "    .dataframe tbody tr th:only-of-type {\n",
              "        vertical-align: middle;\n",
              "    }\n",
              "\n",
              "    .dataframe tbody tr th {\n",
              "        vertical-align: top;\n",
              "    }\n",
              "\n",
              "    .dataframe thead th {\n",
              "        text-align: right;\n",
              "    }\n",
              "</style>\n",
              "<table border=\"1\" class=\"dataframe\">\n",
              "  <thead>\n",
              "    <tr style=\"text-align: right;\">\n",
              "      <th></th>\n",
              "      <th>importance</th>\n",
              "    </tr>\n",
              "  </thead>\n",
              "  <tbody>\n",
              "    <tr>\n",
              "      <th>googlepagerankofcompanywebsite</th>\n",
              "      <td>0.074522</td>\n",
              "    </tr>\n",
              "    <tr>\n",
              "      <th>Technicalproficienciestoanalyseandinterpretunstructureddata</th>\n",
              "      <td>0.066430</td>\n",
              "    </tr>\n",
              "    <tr>\n",
              "      <th>TopmanagementsimilarityL</th>\n",
              "      <td>0.040512</td>\n",
              "    </tr>\n",
              "    <tr>\n",
              "      <th>Renownedinprofessionalcircle</th>\n",
              "      <td>0.037529</td>\n",
              "    </tr>\n",
              "    <tr>\n",
              "      <th>ExperienceinsellingandbuildingproductsL</th>\n",
              "      <td>0.035818</td>\n",
              "    </tr>\n",
              "  </tbody>\n",
              "</table>\n",
              "</div>"
            ],
            "text/plain": [
              "                                                    importance\n",
              "googlepagerankofcompanywebsite                        0.074522\n",
              "Technicalproficienciestoanalyseandinterpretunst...    0.066430\n",
              "TopmanagementsimilarityL                              0.040512\n",
              "Renownedinprofessionalcircle                          0.037529\n",
              "ExperienceinsellingandbuildingproductsL               0.035818"
            ]
          },
          "metadata": {
            "tags": []
          },
          "execution_count": 16
        }
      ]
    },
    {
      "cell_type": "code",
      "metadata": {
        "id": "QBOvRmWjQf9_",
        "colab_type": "code",
        "outputId": "c2aff85c-2892-430b-f18e-059b1d808a6b",
        "colab": {
          "base_uri": "https://localhost:8080/",
          "height": 188
        }
      },
      "source": [
        "percent_importance_xgb = []\n",
        "a=0\n",
        "for i in [10,20,30,40,50,60,70,80,90]:\n",
        "  percent_importance_xgb.append(feature_importances_xgb.importance.head(i).sum())\n",
        "  print(f\"For {i} features-> {percent_importance_xgb[int(a)]}\")\n",
        "  a=a+1"
      ],
      "execution_count": 0,
      "outputs": [
        {
          "output_type": "stream",
          "text": [
            "For 10 features-> 0.3983774185180664\n",
            "For 20 features-> 0.6256094574928284\n",
            "For 30 features-> 0.7706154584884644\n",
            "For 40 features-> 0.867672860622406\n",
            "For 50 features-> 0.9420369267463684\n",
            "For 60 features-> 0.990154504776001\n",
            "For 70 features-> 1.0\n",
            "For 80 features-> 1.0\n",
            "For 90 features-> 1.0\n"
          ],
          "name": "stdout"
        }
      ]
    },
    {
      "cell_type": "code",
      "metadata": {
        "id": "pIogGBsYQgDm",
        "colab_type": "code",
        "outputId": "2cced20d-3b44-4b2f-eaa9-f309ddaf135c",
        "colab": {
          "base_uri": "https://localhost:8080/",
          "height": 295
        }
      },
      "source": [
        "x_axis = [10,20,30,40,50,60,70,80,90]\n",
        "y_axis = percent_importance_xgb\n",
        "plt.plot(x_axis, y_axis)\n",
        "plt.grid()\n",
        "plt.xlabel('Number of features')\n",
        "plt.ylabel('Features importance')\n",
        "plt.title(\"Cumulative Features_imp using XGboost\")\n",
        "\n",
        "plt.show()"
      ],
      "execution_count": 0,
      "outputs": [
        {
          "output_type": "display_data",
          "data": {
            "image/png": "[encoded data removed]",
            "text/plain": [
              "<Figure size 432x288 with 1 Axes>"
            ]
          },
          "metadata": {
            "tags": []
          }
        }
      ]
    },
    {
      "cell_type": "code",
      "metadata": {
        "id": "oi_yaFrlSxPO",
        "colab_type": "code",
        "colab": {}
      },
      "source": [
        "feature_importances_xgb.to_excel('FI_xgb.xlsx')"
      ],
      "execution_count": 0,
      "outputs": []
    },
    {
      "cell_type": "markdown",
      "metadata": {
        "id": "ezthn8wmS6Ds",
        "colab_type": "text"
      },
      "source": [
        "# Features_importance using GradientBoostingClassifier"
      ]
    },
    {
      "cell_type": "code",
      "metadata": {
        "id": "s95StbRaTL8A",
        "colab_type": "code",
        "outputId": "51ecffe4-63bb-4aea-905b-6003752c9618",
        "colab": {
          "base_uri": "https://localhost:8080/",
          "height": 36
        }
      },
      "source": [
        "from sklearn.ensemble import GradientBoostingClassifier\n",
        "\n",
        "gb_clf2 = GradientBoostingClassifier()\n",
        "gb_clf2.fit(X, y)\n",
        "gb_clf2.score(X,y)"
      ],
      "execution_count": 0,
      "outputs": [
        {
          "output_type": "execute_result",
          "data": {
            "text/plain": [
              "1.0"
            ]
          },
          "metadata": {
            "tags": []
          },
          "execution_count": 20
        }
      ]
    },
    {
      "cell_type": "code",
      "metadata": {
        "id": "MTnSNdIiTMWm",
        "colab_type": "code",
        "outputId": "fbfcbd7a-98ca-40ad-bd43-888a043e3397",
        "colab": {
          "base_uri": "https://localhost:8080/",
          "height": 206
        }
      },
      "source": [
        "importances_gbclf = gb_clf2.feature_importances_\n",
        "\n",
        "feature_importances_gbclf = pd.DataFrame(gb_clf2.feature_importances_,\n",
        "                                   index = X.columns,\n",
        "                                    columns=['importance']).sort_values('importance',ascending=False)\n",
        "                                  \n",
        "feature_importances_gbclf.head()"
      ],
      "execution_count": 0,
      "outputs": [
        {
          "output_type": "execute_result",
          "data": {
            "text/html": [
              "<div>\n",
              "<style scoped>\n",
              "    .dataframe tbody tr th:only-of-type {\n",
              "        vertical-align: middle;\n",
              "    }\n",
              "\n",
              "    .dataframe tbody tr th {\n",
              "        vertical-align: top;\n",
              "    }\n",
              "\n",
              "    .dataframe thead th {\n",
              "        text-align: right;\n",
              "    }\n",
              "</style>\n",
              "<table border=\"1\" class=\"dataframe\">\n",
              "  <thead>\n",
              "    <tr style=\"text-align: right;\">\n",
              "      <th></th>\n",
              "      <th>importance</th>\n",
              "    </tr>\n",
              "  </thead>\n",
              "  <tbody>\n",
              "    <tr>\n",
              "      <th>googlepagerankofcompanywebsite</th>\n",
              "      <td>0.269748</td>\n",
              "    </tr>\n",
              "    <tr>\n",
              "      <th>Technicalproficienciestoanalyseandinterpretunstructureddata</th>\n",
              "      <td>0.081572</td>\n",
              "    </tr>\n",
              "    <tr>\n",
              "      <th>Survivalthroughrecessionbasedonexistenceofthecompanythroughreces</th>\n",
              "      <td>0.068825</td>\n",
              "    </tr>\n",
              "    <tr>\n",
              "      <th>DificultyofObtainingWorkforceL</th>\n",
              "      <td>0.068478</td>\n",
              "    </tr>\n",
              "    <tr>\n",
              "      <th>Renownedinprofessionalcircle</th>\n",
              "      <td>0.049073</td>\n",
              "    </tr>\n",
              "  </tbody>\n",
              "</table>\n",
              "</div>"
            ],
            "text/plain": [
              "                                                    importance\n",
              "googlepagerankofcompanywebsite                        0.269748\n",
              "Technicalproficienciestoanalyseandinterpretunst...    0.081572\n",
              "Survivalthroughrecessionbasedonexistenceoftheco...    0.068825\n",
              "DificultyofObtainingWorkforceL                        0.068478\n",
              "Renownedinprofessionalcircle                          0.049073"
            ]
          },
          "metadata": {
            "tags": []
          },
          "execution_count": 21
        }
      ]
    },
    {
      "cell_type": "code",
      "metadata": {
        "id": "gUvd8M_hTMbp",
        "colab_type": "code",
        "outputId": "519736aa-209a-49ff-bd5a-b8f15caaf44c",
        "colab": {
          "base_uri": "https://localhost:8080/",
          "height": 188
        }
      },
      "source": [
        "percent_importance_gb = []\n",
        "a=0\n",
        "for i in [10,20,30,40,50,60,70,80,90]:\n",
        "  percent_importance_gb.append(feature_importances_gbclf.importance.head(i).sum())\n",
        "  print(f\"For {i} features-> {percent_importance_gb[int(a)]}\")\n",
        "  a=a+1"
      ],
      "execution_count": 0,
      "outputs": [
        {
          "output_type": "stream",
          "text": [
            "For 10 features-> 0.7181318489582377\n",
            "For 20 features-> 0.8733561961216804\n",
            "For 30 features-> 0.940482018769374\n",
            "For 40 features-> 0.9770465361020982\n",
            "For 50 features-> 0.9936234016096664\n",
            "For 60 features-> 0.9994452172576721\n",
            "For 70 features-> 0.9999999999999999\n",
            "For 80 features-> 0.9999999999999999\n",
            "For 90 features-> 0.9999999999999999\n"
          ],
          "name": "stdout"
        }
      ]
    },
    {
      "cell_type": "code",
      "metadata": {
        "id": "f63ECZrVTMg3",
        "colab_type": "code",
        "outputId": "b75c8562-1807-4f05-deaa-379b7f674f9d",
        "colab": {
          "base_uri": "https://localhost:8080/",
          "height": 295
        }
      },
      "source": [
        "x_axis = [10,20,30,40,50,60,70,80,90]\n",
        "y_axis = percent_importance_gb\n",
        "plt.plot(x_axis, y_axis)\n",
        "plt.grid()\n",
        "plt.xlabel('Number of features')\n",
        "plt.ylabel('Features importance')\n",
        "plt.title(\"Cumulative Features_imp using GradientBoost\")\n",
        "\n",
        "plt.show()"
      ],
      "execution_count": 0,
      "outputs": [
        {
          "output_type": "display_data",
          "data": {
            "image/png": "[encoded data removed]",
            "text/plain": [
              "<Figure size 432x288 with 1 Axes>"
            ]
          },
          "metadata": {
            "tags": []
          }
        }
      ]
    },
    {
      "cell_type": "code",
      "metadata": {
        "id": "Py3Hk78iTMlE",
        "colab_type": "code",
        "colab": {}
      },
      "source": [
        "feature_importances_gbclf.to_excel('FI_gb.xlsx')"
      ],
      "execution_count": 0,
      "outputs": []
    },
    {
      "cell_type": "markdown",
      "metadata": {
        "id": "jROr8vwJUeG1",
        "colab_type": "text"
      },
      "source": [
        "# Feature_importance by taking mean of above three classifier"
      ]
    },
    {
      "cell_type": "code",
      "metadata": {
        "id": "9b6n_2JSAZae",
        "colab_type": "code",
        "outputId": "044cd3a8-a4fd-49f8-accd-76a864ecafdf",
        "colab": {
          "base_uri": "https://localhost:8080/",
          "height": 36
        }
      },
      "source": [
        "imp_features = pd.read_excel('Final_features_importance_mean.xlsx')\n",
        "imp_features.shape"
      ],
      "execution_count": 0,
      "outputs": [
        {
          "output_type": "execute_result",
          "data": {
            "text/plain": [
              "(90, 2)"
            ]
          },
          "metadata": {
            "tags": []
          },
          "execution_count": 25
        }
      ]
    },
    {
      "cell_type": "code",
      "metadata": {
        "id": "MC5siz0ZGDOG",
        "colab_type": "code",
        "outputId": "d5334485-3f65-408c-b5e2-55b3ded58606",
        "colab": {
          "base_uri": "https://localhost:8080/",
          "height": 206
        }
      },
      "source": [
        "imp_features.head()"
      ],
      "execution_count": 0,
      "outputs": [
        {
          "output_type": "execute_result",
          "data": {
            "text/html": [
              "<div>\n",
              "<style scoped>\n",
              "    .dataframe tbody tr th:only-of-type {\n",
              "        vertical-align: middle;\n",
              "    }\n",
              "\n",
              "    .dataframe tbody tr th {\n",
              "        vertical-align: top;\n",
              "    }\n",
              "\n",
              "    .dataframe thead th {\n",
              "        text-align: right;\n",
              "    }\n",
              "</style>\n",
              "<table border=\"1\" class=\"dataframe\">\n",
              "  <thead>\n",
              "    <tr style=\"text-align: right;\">\n",
              "      <th></th>\n",
              "      <th>Features_name</th>\n",
              "      <th>Features_importance_mean</th>\n",
              "    </tr>\n",
              "  </thead>\n",
              "  <tbody>\n",
              "    <tr>\n",
              "      <th>0</th>\n",
              "      <td>googlepagerankofcompanywebsite</td>\n",
              "      <td>0.143468</td>\n",
              "    </tr>\n",
              "    <tr>\n",
              "      <th>1</th>\n",
              "      <td>Technicalproficienciestoanalyseandinterpretuns...</td>\n",
              "      <td>0.064479</td>\n",
              "    </tr>\n",
              "    <tr>\n",
              "      <th>2</th>\n",
              "      <td>Internet_activity_Score</td>\n",
              "      <td>0.046067</td>\n",
              "    </tr>\n",
              "    <tr>\n",
              "      <th>3</th>\n",
              "      <td>Renownedinprofessionalcircle</td>\n",
              "      <td>0.041973</td>\n",
              "    </tr>\n",
              "    <tr>\n",
              "      <th>4</th>\n",
              "      <td>Survivalthroughrecessionbasedonexistenceofthec...</td>\n",
              "      <td>0.035294</td>\n",
              "    </tr>\n",
              "  </tbody>\n",
              "</table>\n",
              "</div>"
            ],
            "text/plain": [
              "                                       Features_name  Features_importance_mean\n",
              "0                     googlepagerankofcompanywebsite                  0.143468\n",
              "1  Technicalproficienciestoanalyseandinterpretuns...                  0.064479\n",
              "2                            Internet_activity_Score                  0.046067\n",
              "3                       Renownedinprofessionalcircle                  0.041973\n",
              "4  Survivalthroughrecessionbasedonexistenceofthec...                  0.035294"
            ]
          },
          "metadata": {
            "tags": []
          },
          "execution_count": 26
        }
      ]
    },
    {
      "cell_type": "code",
      "metadata": {
        "id": "NXpzdFEKU_SA",
        "colab_type": "code",
        "outputId": "6906debb-8d43-488f-a8b4-b8d8de5f3937",
        "colab": {
          "base_uri": "https://localhost:8080/",
          "height": 188
        }
      },
      "source": [
        "percent_imp = []\n",
        "a=0\n",
        "for i in [10,20,30,40,50,60,70,80,90]:\n",
        "  percent_imp.append(imp_features.Features_importance_mean.head(i).sum())\n",
        "  print(f\"For {i} features-> {percent_imp[int(a)]}\")\n",
        "  a=a+1\n",
        "\n"
      ],
      "execution_count": 0,
      "outputs": [
        {
          "output_type": "stream",
          "text": [
            "For 10 features-> 0.48559023301852533\n",
            "For 20 features-> 0.6769257987562622\n",
            "For 30 features-> 0.8032097120129373\n",
            "For 40 features-> 0.8798612564956971\n",
            "For 50 features-> 0.9374169986404379\n",
            "For 60 features-> 0.9735699879643498\n",
            "For 70 features-> 0.9908671316905961\n",
            "For 80 features-> 0.9979351774419865\n",
            "For 90 features-> 1.0000000067908936\n"
          ],
          "name": "stdout"
        }
      ]
    },
    {
      "cell_type": "code",
      "metadata": {
        "id": "FDl3BJgeWO1F",
        "colab_type": "code",
        "outputId": "8af59e10-cf41-4ebb-f905-a9ce415bbe6b",
        "colab": {
          "base_uri": "https://localhost:8080/",
          "height": 295
        }
      },
      "source": [
        "x_axis = [10,20,30,40,50,60,70,80,90]\n",
        "y_axis = percent_imp\n",
        "plt.plot(x_axis, y_axis)\n",
        "plt.grid()\n",
        "plt.xlabel('Number of features')\n",
        "plt.ylabel('Features importance')\n",
        "plt.title(\"Cumulative mean Features_imp\")\n",
        "plt.show()"
      ],
      "execution_count": 0,
      "outputs": [
        {
          "output_type": "display_data",
          "data": {
            "image/png": "[encoded data removed]",
            "text/plain": [
              "<Figure size 432x288 with 1 Axes>"
            ]
          },
          "metadata": {
            "tags": []
          }
        }
      ]
    },
    {
      "cell_type": "markdown",
      "metadata": {
        "id": "5_PKad7hAP7i",
        "colab_type": "text"
      },
      "source": [
        "# Selection of top 50 **features**"
      ]
    },
    {
      "cell_type": "code",
      "metadata": {
        "id": "JM_pYdciWhyF",
        "colab_type": "code",
        "outputId": "e659daab-8c33-41a9-bd6c-6d715813069d",
        "colab": {
          "base_uri": "https://localhost:8080/",
          "height": 36
        }
      },
      "source": [
        "#selecting number of features\n",
        "df50 = imp_features.head(50)\n",
        "df = df50\n",
        "df.shape"
      ],
      "execution_count": 0,
      "outputs": [
        {
          "output_type": "execute_result",
          "data": {
            "text/plain": [
              "(50, 2)"
            ]
          },
          "metadata": {
            "tags": []
          },
          "execution_count": 29
        }
      ]
    },
    {
      "cell_type": "code",
      "metadata": {
        "id": "XPtrIXGXHYQm",
        "colab_type": "code",
        "outputId": "daf2692d-e70a-4ccd-e443-f5f3cc2fb2f9",
        "colab": {
          "base_uri": "https://localhost:8080/",
          "height": 645
        }
      },
      "source": [
        "df.Features_name.to_numpy()"
      ],
      "execution_count": 0,
      "outputs": [
        {
          "output_type": "execute_result",
          "data": {
            "text/plain": [
              "array(['googlepagerankofcompanywebsite',\n",
              "       'Technicalproficienciestoanalyseandinterpretunstructureddata',\n",
              "       'Internet_activity_Score', 'Renownedinprofessionalcircle',\n",
              "       'Survivalthroughrecessionbasedonexistenceofthecompanythroughreces',\n",
              "       'TeamCompositionscoreL', 'DificultyofObtainingWorkforceL',\n",
              "       'ExperienceinsellingandbuildingproductsL',\n",
              "       'Employeesperyearofcompanyexistence', 'TopmanagementsimilarityL',\n",
              "       'Focusonstructuredorunstructureddata',\n",
              "       'NumberofSalesSupportmaterialL',\n",
              "       'NumberofRecognitionsforFoundersandCofounders',\n",
              "       'Age_of_company_in_years', 'Focusonprivateorpublicdata',\n",
              "       'NumberofDirectcompetitors', 'Continent_of_company',\n",
              "       'DisruptivenessoftechnologyL', 'Gartnerhypecyclestage',\n",
              "       'DegreefromaTier1orTier2university',\n",
              "       'Cateringtoproductserviceacrossverticals', 'BigDataBusiness',\n",
              "       'Yearsofeducation', 'Localorglobalplayer', 'Employee_Count',\n",
              "       'Avgtimetoinvestmentaverageacrossallroundsmeasuredfrompreviousinv',\n",
              "       'HighesteducationL', 'Focus_function',\n",
              "       'Cloudorplatformbasedseriveproduct',\n",
              "       'Timetomarketserviceorproduct', 'Renownscore', 'Solutionsoffered',\n",
              "       'B2CorB2Bventure', 'Skillsscore', 'Team_size_all_employees',\n",
              "       'Timeto1stinvestmentinmonths', 'Hyperlocalisation',\n",
              "       'TopforumslikeTechcrunchorVenturebeattalkingaboutthecompanymodelH',\n",
              "       'Longtermrelationshipwithotherfounders',\n",
              "       'BreadthofexperienceacrossverticalsL',\n",
              "       'Isthecompanyanaggregatormarketplacee.g.Bluekai',\n",
              "       'Number_of_Investors_in_Seed', 'Last_Funding_Amount',\n",
              "       'NumberofResearchpublicationsL', 'Industrytrendininvesting',\n",
              "       'ExperienceinFortune500organizations',\n",
              "       'Team_size_Senior_leadership',\n",
              "       'LastroundoffundingreceivedinmilionUSD',\n",
              "       'Crowdsourcingbasedbusiness', 'Numberofofrepeatinvestors'],\n",
              "      dtype=object)"
            ]
          },
          "metadata": {
            "tags": []
          },
          "execution_count": 30
        }
      ]
    },
    {
      "cell_type": "code",
      "metadata": {
        "id": "Ej44AKUEYfoo",
        "colab_type": "code",
        "colab": {}
      },
      "source": [
        "features = pd.DataFrame()\n",
        "for col in X.columns:\n",
        "   if(col in df.Features_name.to_numpy()):\n",
        "       features[col]=X[col].iloc[:]"
      ],
      "execution_count": 0,
      "outputs": []
    },
    {
      "cell_type": "code",
      "metadata": {
        "id": "ykdD4A8rZgSp",
        "colab_type": "code",
        "outputId": "a47d678c-0dc2-4174-96f1-86f0ed864c70",
        "colab": {
          "base_uri": "https://localhost:8080/",
          "height": 36
        }
      },
      "source": [
        "features.shape"
      ],
      "execution_count": 0,
      "outputs": [
        {
          "output_type": "execute_result",
          "data": {
            "text/plain": [
              "(472, 50)"
            ]
          },
          "metadata": {
            "tags": []
          },
          "execution_count": 32
        }
      ]
    },
    {
      "cell_type": "code",
      "metadata": {
        "id": "SKIEIrQrJONI",
        "colab_type": "code",
        "colab": {}
      },
      "source": [
        "features.to_excel('top50_features.xlsx')"
      ],
      "execution_count": 0,
      "outputs": []
    },
    {
      "cell_type": "code",
      "metadata": {
        "id": "HolZW50q-TgY",
        "colab_type": "code",
        "colab": {}
      },
      "source": [
        "#OneHotEncoding Categorical columns\n",
        "df1 = pd.read_excel(\"top50_features_OHC.xlsx\")"
      ],
      "execution_count": 0,
      "outputs": []
    },
    {
      "cell_type": "code",
      "metadata": {
        "id": "WozixUdlZkTv",
        "colab_type": "code",
        "outputId": "a37c22b7-73f9-44c2-905c-b350f002f1bb",
        "colab": {
          "base_uri": "https://localhost:8080/",
          "height": 36
        }
      },
      "source": [
        "df1.shape"
      ],
      "execution_count": 0,
      "outputs": [
        {
          "output_type": "execute_result",
          "data": {
            "text/plain": [
              "(472, 57)"
            ]
          },
          "metadata": {
            "tags": []
          },
          "execution_count": 35
        }
      ]
    },
    {
      "cell_type": "code",
      "metadata": {
        "id": "idgx2etfBjz6",
        "colab_type": "code",
        "outputId": "172138eb-f6ec-4852-83d3-344e4d45aeb1",
        "colab": {
          "base_uri": "https://localhost:8080/",
          "height": 206
        }
      },
      "source": [
        "df_new = pd.get_dummies(df1.Focus_function,prefix='Focus_function')\n",
        "df_new.head()"
      ],
      "execution_count": 0,
      "outputs": [
        {
          "output_type": "execute_result",
          "data": {
            "text/html": [
              "<div>\n",
              "<style scoped>\n",
              "    .dataframe tbody tr th:only-of-type {\n",
              "        vertical-align: middle;\n",
              "    }\n",
              "\n",
              "    .dataframe tbody tr th {\n",
              "        vertical-align: top;\n",
              "    }\n",
              "\n",
              "    .dataframe thead th {\n",
              "        text-align: right;\n",
              "    }\n",
              "</style>\n",
              "<table border=\"1\" class=\"dataframe\">\n",
              "  <thead>\n",
              "    <tr style=\"text-align: right;\">\n",
              "      <th></th>\n",
              "      <th>Focus_function_1</th>\n",
              "      <th>Focus_function_2</th>\n",
              "      <th>Focus_function_3</th>\n",
              "      <th>Focus_function_4</th>\n",
              "      <th>Focus_function_5</th>\n",
              "      <th>Focus_function_6</th>\n",
              "    </tr>\n",
              "  </thead>\n",
              "  <tbody>\n",
              "    <tr>\n",
              "      <th>0</th>\n",
              "      <td>0</td>\n",
              "      <td>0</td>\n",
              "      <td>0</td>\n",
              "      <td>1</td>\n",
              "      <td>0</td>\n",
              "      <td>0</td>\n",
              "    </tr>\n",
              "    <tr>\n",
              "      <th>1</th>\n",
              "      <td>0</td>\n",
              "      <td>1</td>\n",
              "      <td>0</td>\n",
              "      <td>0</td>\n",
              "      <td>0</td>\n",
              "      <td>0</td>\n",
              "    </tr>\n",
              "    <tr>\n",
              "      <th>2</th>\n",
              "      <td>1</td>\n",
              "      <td>0</td>\n",
              "      <td>0</td>\n",
              "      <td>0</td>\n",
              "      <td>0</td>\n",
              "      <td>0</td>\n",
              "    </tr>\n",
              "    <tr>\n",
              "      <th>3</th>\n",
              "      <td>0</td>\n",
              "      <td>1</td>\n",
              "      <td>0</td>\n",
              "      <td>0</td>\n",
              "      <td>0</td>\n",
              "      <td>0</td>\n",
              "    </tr>\n",
              "    <tr>\n",
              "      <th>4</th>\n",
              "      <td>0</td>\n",
              "      <td>1</td>\n",
              "      <td>0</td>\n",
              "      <td>0</td>\n",
              "      <td>0</td>\n",
              "      <td>0</td>\n",
              "    </tr>\n",
              "  </tbody>\n",
              "</table>\n",
              "</div>"
            ],
            "text/plain": [
              "   Focus_function_1  Focus_function_2  ...  Focus_function_5  Focus_function_6\n",
              "0                 0                 0  ...                 0                 0\n",
              "1                 0                 1  ...                 0                 0\n",
              "2                 1                 0  ...                 0                 0\n",
              "3                 0                 1  ...                 0                 0\n",
              "4                 0                 1  ...                 0                 0\n",
              "\n",
              "[5 rows x 6 columns]"
            ]
          },
          "metadata": {
            "tags": []
          },
          "execution_count": 36
        }
      ]
    },
    {
      "cell_type": "code",
      "metadata": {
        "id": "NctthF3ABjx2",
        "colab_type": "code",
        "outputId": "346a8dc9-6696-4e04-a520-859ad25e1d42",
        "colab": {
          "base_uri": "https://localhost:8080/",
          "height": 36
        }
      },
      "source": [
        "df_new = pd.concat([df_new,pd.get_dummies(df1.Continent_of_company,prefix='Continent')],axis=1)\n",
        "df_new.shape"
      ],
      "execution_count": 0,
      "outputs": [
        {
          "output_type": "execute_result",
          "data": {
            "text/plain": [
              "(472, 10)"
            ]
          },
          "metadata": {
            "tags": []
          },
          "execution_count": 37
        }
      ]
    },
    {
      "cell_type": "code",
      "metadata": {
        "id": "ktOQ5OVnBjvg",
        "colab_type": "code",
        "outputId": "474db88c-1f7b-4742-89d6-5577eb66a45c",
        "colab": {
          "base_uri": "https://localhost:8080/",
          "height": 226
        }
      },
      "source": [
        "df_new.head()"
      ],
      "execution_count": 0,
      "outputs": [
        {
          "output_type": "execute_result",
          "data": {
            "text/html": [
              "<div>\n",
              "<style scoped>\n",
              "    .dataframe tbody tr th:only-of-type {\n",
              "        vertical-align: middle;\n",
              "    }\n",
              "\n",
              "    .dataframe tbody tr th {\n",
              "        vertical-align: top;\n",
              "    }\n",
              "\n",
              "    .dataframe thead th {\n",
              "        text-align: right;\n",
              "    }\n",
              "</style>\n",
              "<table border=\"1\" class=\"dataframe\">\n",
              "  <thead>\n",
              "    <tr style=\"text-align: right;\">\n",
              "      <th></th>\n",
              "      <th>Focus_function_1</th>\n",
              "      <th>Focus_function_2</th>\n",
              "      <th>Focus_function_3</th>\n",
              "      <th>Focus_function_4</th>\n",
              "      <th>Focus_function_5</th>\n",
              "      <th>Focus_function_6</th>\n",
              "      <th>Continent_1</th>\n",
              "      <th>Continent_2</th>\n",
              "      <th>Continent_3</th>\n",
              "      <th>Continent_4</th>\n",
              "    </tr>\n",
              "  </thead>\n",
              "  <tbody>\n",
              "    <tr>\n",
              "      <th>0</th>\n",
              "      <td>0</td>\n",
              "      <td>0</td>\n",
              "      <td>0</td>\n",
              "      <td>1</td>\n",
              "      <td>0</td>\n",
              "      <td>0</td>\n",
              "      <td>1</td>\n",
              "      <td>0</td>\n",
              "      <td>0</td>\n",
              "      <td>0</td>\n",
              "    </tr>\n",
              "    <tr>\n",
              "      <th>1</th>\n",
              "      <td>0</td>\n",
              "      <td>1</td>\n",
              "      <td>0</td>\n",
              "      <td>0</td>\n",
              "      <td>0</td>\n",
              "      <td>0</td>\n",
              "      <td>1</td>\n",
              "      <td>0</td>\n",
              "      <td>0</td>\n",
              "      <td>0</td>\n",
              "    </tr>\n",
              "    <tr>\n",
              "      <th>2</th>\n",
              "      <td>1</td>\n",
              "      <td>0</td>\n",
              "      <td>0</td>\n",
              "      <td>0</td>\n",
              "      <td>0</td>\n",
              "      <td>0</td>\n",
              "      <td>1</td>\n",
              "      <td>0</td>\n",
              "      <td>0</td>\n",
              "      <td>0</td>\n",
              "    </tr>\n",
              "    <tr>\n",
              "      <th>3</th>\n",
              "      <td>0</td>\n",
              "      <td>1</td>\n",
              "      <td>0</td>\n",
              "      <td>0</td>\n",
              "      <td>0</td>\n",
              "      <td>0</td>\n",
              "      <td>1</td>\n",
              "      <td>0</td>\n",
              "      <td>0</td>\n",
              "      <td>0</td>\n",
              "    </tr>\n",
              "    <tr>\n",
              "      <th>4</th>\n",
              "      <td>0</td>\n",
              "      <td>1</td>\n",
              "      <td>0</td>\n",
              "      <td>0</td>\n",
              "      <td>0</td>\n",
              "      <td>0</td>\n",
              "      <td>1</td>\n",
              "      <td>0</td>\n",
              "      <td>0</td>\n",
              "      <td>0</td>\n",
              "    </tr>\n",
              "  </tbody>\n",
              "</table>\n",
              "</div>"
            ],
            "text/plain": [
              "   Focus_function_1  Focus_function_2  ...  Continent_3  Continent_4\n",
              "0                 0                 0  ...            0            0\n",
              "1                 0                 1  ...            0            0\n",
              "2                 1                 0  ...            0            0\n",
              "3                 0                 1  ...            0            0\n",
              "4                 0                 1  ...            0            0\n",
              "\n",
              "[5 rows x 10 columns]"
            ]
          },
          "metadata": {
            "tags": []
          },
          "execution_count": 38
        }
      ]
    },
    {
      "cell_type": "code",
      "metadata": {
        "id": "FXwsQT3GBjp8",
        "colab_type": "code",
        "outputId": "42ea9169-5cba-4de8-ca09-aeef6355a4ae",
        "colab": {
          "base_uri": "https://localhost:8080/",
          "height": 36
        }
      },
      "source": [
        "df2 = pd.concat([df1,df_new],axis=1)\n",
        "df2.shape"
      ],
      "execution_count": 0,
      "outputs": [
        {
          "output_type": "execute_result",
          "data": {
            "text/plain": [
              "(472, 67)"
            ]
          },
          "metadata": {
            "tags": []
          },
          "execution_count": 39
        }
      ]
    },
    {
      "cell_type": "code",
      "metadata": {
        "id": "aBV5hPcKBjax",
        "colab_type": "code",
        "outputId": "b80912bf-ddf5-40aa-df18-67f7c37ca0c5",
        "colab": {
          "base_uri": "https://localhost:8080/",
          "height": 36
        }
      },
      "source": [
        "features_new = df2.drop(columns=['Focus_function','Continent_of_company'],axis=1)\n",
        "features_new.shape"
      ],
      "execution_count": 0,
      "outputs": [
        {
          "output_type": "execute_result",
          "data": {
            "text/plain": [
              "(472, 65)"
            ]
          },
          "metadata": {
            "tags": []
          },
          "execution_count": 40
        }
      ]
    },
    {
      "cell_type": "code",
      "metadata": {
        "id": "ZxsD79PyZoDP",
        "colab_type": "code",
        "colab": {}
      },
      "source": [
        "from sklearn.model_selection import train_test_split\n",
        "X_train,X_test,y_train,y_test = train_test_split(features_new,y,test_size=0.20)"
      ],
      "execution_count": 0,
      "outputs": []
    },
    {
      "cell_type": "code",
      "metadata": {
        "id": "prFJKy8hcHBh",
        "colab_type": "code",
        "outputId": "64d243c2-185d-437f-abcc-d36051996a53",
        "colab": {
          "base_uri": "https://localhost:8080/",
          "height": 36
        }
      },
      "source": [
        "X_train.shape, X_test.shape"
      ],
      "execution_count": 0,
      "outputs": [
        {
          "output_type": "execute_result",
          "data": {
            "text/plain": [
              "((377, 65), (95, 65))"
            ]
          },
          "metadata": {
            "tags": []
          },
          "execution_count": 42
        }
      ]
    },
    {
      "cell_type": "code",
      "metadata": {
        "id": "DwEVjFT1cRPv",
        "colab_type": "code",
        "outputId": "f0122184-47aa-4ece-f14b-f36535be4c4e",
        "colab": {
          "base_uri": "https://localhost:8080/",
          "height": 36
        }
      },
      "source": [
        "y_train.shape, y_test.shape"
      ],
      "execution_count": 0,
      "outputs": [
        {
          "output_type": "execute_result",
          "data": {
            "text/plain": [
              "((377,), (95,))"
            ]
          },
          "metadata": {
            "tags": []
          },
          "execution_count": 43
        }
      ]
    },
    {
      "cell_type": "markdown",
      "metadata": {
        "id": "ipa1MxpmNka6",
        "colab_type": "text"
      },
      "source": [
        "# ML Algorithms"
      ]
    },
    {
      "cell_type": "markdown",
      "metadata": {
        "id": "Ll1r04H6_0Sp",
        "colab_type": "text"
      },
      "source": [
        "## Naive **Bayes**\n"
      ]
    },
    {
      "cell_type": "code",
      "metadata": {
        "id": "DLVULCCSiGJt",
        "colab_type": "code",
        "colab": {}
      },
      "source": [
        "from sklearn.naive_bayes import GaussianNB, MultinomialNB\n",
        "model_Gaus = GaussianNB()\n",
        "model_MultiN = MultinomialNB()"
      ],
      "execution_count": 0,
      "outputs": []
    },
    {
      "cell_type": "code",
      "metadata": {
        "id": "g3QTY5JIz1Ej",
        "colab_type": "code",
        "outputId": "7b3ed449-e293-477b-9651-30d95ea3280e",
        "colab": {
          "base_uri": "https://localhost:8080/",
          "height": 1000
        }
      },
      "source": [
        "colormap = plt.cm.RdBu\n",
        "plt.figure(figsize=(12,12))\n",
        "plt.title('Pearson Corr.', y=1.05, size=12)\n",
        "sns.heatmap(features_new.astype(float).corr(),linewidths=0.1, vmax=1.0, \n",
        "            square=True, cmap=colormap, linecolor='white', annot=False)"
      ],
      "execution_count": 0,
      "outputs": [
        {
          "output_type": "execute_result",
          "data": {
            "text/plain": [
              "<matplotlib.axes._subplots.AxesSubplot at 0x7f8f1600da90>"
            ]
          },
          "metadata": {
            "tags": []
          },
          "execution_count": 45
        },
        {
          "output_type": "display_data",
          "data": {
            "image/png": "[encoded data removed]",
            "text/plain": [
              "<Figure size 864x864 with 2 Axes>"
            ]
          },
          "metadata": {
            "tags": []
          }
        }
      ]
    },
    {
      "cell_type": "code",
      "metadata": {
        "id": "fiMD7a_Zip7_",
        "colab_type": "code",
        "outputId": "a1fb9ffb-bf81-4fbe-99f0-3c5baa39696e",
        "colab": {
          "base_uri": "https://localhost:8080/",
          "height": 36
        }
      },
      "source": [
        "model_Gaus.fit(X_train,y_train)\n",
        "model_Gaus.score(X_test,y_test)"
      ],
      "execution_count": 0,
      "outputs": [
        {
          "output_type": "execute_result",
          "data": {
            "text/plain": [
              "0.7052631578947368"
            ]
          },
          "metadata": {
            "tags": []
          },
          "execution_count": 46
        }
      ]
    },
    {
      "cell_type": "code",
      "metadata": {
        "id": "MU5oWYPZ0E7J",
        "colab_type": "code",
        "outputId": "bc47193c-f0c5-4419-c9ba-0cfaa7313b90",
        "colab": {
          "base_uri": "https://localhost:8080/",
          "height": 36
        }
      },
      "source": [
        "model_Gaus.fit(features_new,y)\n",
        "model_Gaus.score(features_new,y)"
      ],
      "execution_count": 0,
      "outputs": [
        {
          "output_type": "execute_result",
          "data": {
            "text/plain": [
              "0.7838983050847458"
            ]
          },
          "metadata": {
            "tags": []
          },
          "execution_count": 47
        }
      ]
    },
    {
      "cell_type": "code",
      "metadata": {
        "id": "6-xsUJuijQIH",
        "colab_type": "code",
        "outputId": "b7c5fa76-43bb-4888-f9d0-fbb0551eae98",
        "colab": {
          "base_uri": "https://localhost:8080/",
          "height": 352
        }
      },
      "source": [
        "model_MultiN.fit(X_train,y_train)\n",
        "model_MultiN.score(X_test,y_test)"
      ],
      "execution_count": 0,
      "outputs": [
        {
          "output_type": "error",
          "ename": "ValueError",
          "evalue": "ignored",
          "traceback": [
            "\u001b[0;31m---------------------------------------------------------------------------\u001b[0m",
            "\u001b[0;31mValueError\u001b[0m                                Traceback (most recent call last)",
            "\u001b[0;32m<ipython-input-48-85c6ab21d418>\u001b[0m in \u001b[0;36m<module>\u001b[0;34m()\u001b[0m\n\u001b[0;32m----> 1\u001b[0;31m \u001b[0mmodel_MultiN\u001b[0m\u001b[0;34m.\u001b[0m\u001b[0mfit\u001b[0m\u001b[0;34m(\u001b[0m\u001b[0mX_train\u001b[0m\u001b[0;34m,\u001b[0m\u001b[0my_train\u001b[0m\u001b[0;34m)\u001b[0m\u001b[0;34m\u001b[0m\u001b[0;34m\u001b[0m\u001b[0m\n\u001b[0m\u001b[1;32m      2\u001b[0m \u001b[0mmodel_MultiN\u001b[0m\u001b[0;34m.\u001b[0m\u001b[0mscore\u001b[0m\u001b[0;34m(\u001b[0m\u001b[0mX_test\u001b[0m\u001b[0;34m,\u001b[0m\u001b[0my_test\u001b[0m\u001b[0;34m)\u001b[0m\u001b[0;34m\u001b[0m\u001b[0;34m\u001b[0m\u001b[0m\n",
            "\u001b[0;32m/usr/local/lib/python3.6/dist-packages/sklearn/naive_bayes.py\u001b[0m in \u001b[0;36mfit\u001b[0;34m(self, X, y, sample_weight)\u001b[0m\n\u001b[1;32m    611\u001b[0m         self.feature_count_ = np.zeros((n_effective_classes, n_features),\n\u001b[1;32m    612\u001b[0m                                        dtype=np.float64)\n\u001b[0;32m--> 613\u001b[0;31m         \u001b[0mself\u001b[0m\u001b[0;34m.\u001b[0m\u001b[0m_count\u001b[0m\u001b[0;34m(\u001b[0m\u001b[0mX\u001b[0m\u001b[0;34m,\u001b[0m \u001b[0mY\u001b[0m\u001b[0;34m)\u001b[0m\u001b[0;34m\u001b[0m\u001b[0;34m\u001b[0m\u001b[0m\n\u001b[0m\u001b[1;32m    614\u001b[0m         \u001b[0malpha\u001b[0m \u001b[0;34m=\u001b[0m \u001b[0mself\u001b[0m\u001b[0;34m.\u001b[0m\u001b[0m_check_alpha\u001b[0m\u001b[0;34m(\u001b[0m\u001b[0;34m)\u001b[0m\u001b[0;34m\u001b[0m\u001b[0;34m\u001b[0m\u001b[0m\n\u001b[1;32m    615\u001b[0m         \u001b[0mself\u001b[0m\u001b[0;34m.\u001b[0m\u001b[0m_update_feature_log_prob\u001b[0m\u001b[0;34m(\u001b[0m\u001b[0malpha\u001b[0m\u001b[0;34m)\u001b[0m\u001b[0;34m\u001b[0m\u001b[0;34m\u001b[0m\u001b[0m\n",
            "\u001b[0;32m/usr/local/lib/python3.6/dist-packages/sklearn/naive_bayes.py\u001b[0m in \u001b[0;36m_count\u001b[0;34m(self, X, Y)\u001b[0m\n\u001b[1;32m    718\u001b[0m         \u001b[0;34m\"\"\"Count and smooth feature occurrences.\"\"\"\u001b[0m\u001b[0;34m\u001b[0m\u001b[0;34m\u001b[0m\u001b[0m\n\u001b[1;32m    719\u001b[0m         \u001b[0;32mif\u001b[0m \u001b[0mnp\u001b[0m\u001b[0;34m.\u001b[0m\u001b[0many\u001b[0m\u001b[0;34m(\u001b[0m\u001b[0;34m(\u001b[0m\u001b[0mX\u001b[0m\u001b[0;34m.\u001b[0m\u001b[0mdata\u001b[0m \u001b[0;32mif\u001b[0m \u001b[0missparse\u001b[0m\u001b[0;34m(\u001b[0m\u001b[0mX\u001b[0m\u001b[0;34m)\u001b[0m \u001b[0;32melse\u001b[0m \u001b[0mX\u001b[0m\u001b[0;34m)\u001b[0m \u001b[0;34m<\u001b[0m \u001b[0;36m0\u001b[0m\u001b[0;34m)\u001b[0m\u001b[0;34m:\u001b[0m\u001b[0;34m\u001b[0m\u001b[0;34m\u001b[0m\u001b[0m\n\u001b[0;32m--> 720\u001b[0;31m             \u001b[0;32mraise\u001b[0m \u001b[0mValueError\u001b[0m\u001b[0;34m(\u001b[0m\u001b[0;34m\"Input X must be non-negative\"\u001b[0m\u001b[0;34m)\u001b[0m\u001b[0;34m\u001b[0m\u001b[0;34m\u001b[0m\u001b[0m\n\u001b[0m\u001b[1;32m    721\u001b[0m         \u001b[0mself\u001b[0m\u001b[0;34m.\u001b[0m\u001b[0mfeature_count_\u001b[0m \u001b[0;34m+=\u001b[0m \u001b[0msafe_sparse_dot\u001b[0m\u001b[0;34m(\u001b[0m\u001b[0mY\u001b[0m\u001b[0;34m.\u001b[0m\u001b[0mT\u001b[0m\u001b[0;34m,\u001b[0m \u001b[0mX\u001b[0m\u001b[0;34m)\u001b[0m\u001b[0;34m\u001b[0m\u001b[0;34m\u001b[0m\u001b[0m\n\u001b[1;32m    722\u001b[0m         \u001b[0mself\u001b[0m\u001b[0;34m.\u001b[0m\u001b[0mclass_count_\u001b[0m \u001b[0;34m+=\u001b[0m \u001b[0mY\u001b[0m\u001b[0;34m.\u001b[0m\u001b[0msum\u001b[0m\u001b[0;34m(\u001b[0m\u001b[0maxis\u001b[0m\u001b[0;34m=\u001b[0m\u001b[0;36m0\u001b[0m\u001b[0;34m)\u001b[0m\u001b[0;34m\u001b[0m\u001b[0;34m\u001b[0m\u001b[0m\n",
            "\u001b[0;31mValueError\u001b[0m: Input X must be non-negative"
          ]
        }
      ]
    },
    {
      "cell_type": "markdown",
      "metadata": {
        "id": "If_hYNvo_gVc",
        "colab_type": "text"
      },
      "source": [
        "## Naive Bayes - **GridSearch**\n",
        "\n",
        "\n",
        "\n",
        "\n"
      ]
    },
    {
      "cell_type": "code",
      "metadata": {
        "id": "0fIAKO1TjeHe",
        "colab_type": "code",
        "outputId": "0d8f5e01-afd0-4149-ce6b-95af06c4d731",
        "colab": {
          "base_uri": "https://localhost:8080/",
          "height": 36
        }
      },
      "source": [
        "from sklearn.model_selection import cross_val_score\n",
        "cross_val_score(GaussianNB(),features_new,y,cv=5)"
      ],
      "execution_count": 0,
      "outputs": [
        {
          "output_type": "execute_result",
          "data": {
            "text/plain": [
              "array([0.70526316, 0.76842105, 0.72340426, 0.71276596, 0.55319149])"
            ]
          },
          "metadata": {
            "tags": []
          },
          "execution_count": 49
        }
      ]
    },
    {
      "cell_type": "code",
      "metadata": {
        "id": "SnBjaODDlEFX",
        "colab_type": "code",
        "outputId": "6ee1b7b3-f3b9-45b6-8229-7b8ce20f3688",
        "colab": {
          "base_uri": "https://localhost:8080/",
          "height": 139
        }
      },
      "source": [
        "from sklearn.model_selection import GridSearchCV\n",
        "clf = GridSearchCV(GaussianNB(),{},cv=5, return_train_score=False,)\n",
        "clf.fit(features_new,y)\n",
        "clf.cv_results_\n",
        "results = pd.DataFrame(clf.cv_results_)\n",
        "results[['mean_test_score']]"
      ],
      "execution_count": 0,
      "outputs": [
        {
          "output_type": "stream",
          "text": [
            "/usr/local/lib/python3.6/dist-packages/sklearn/model_selection/_search.py:814: DeprecationWarning: The default of the `iid` parameter will change from True to False in version 0.22 and will be removed in 0.24. This will change numeric results when test-set sizes are unequal.\n",
            "  DeprecationWarning)\n"
          ],
          "name": "stderr"
        },
        {
          "output_type": "execute_result",
          "data": {
            "text/html": [
              "<div>\n",
              "<style scoped>\n",
              "    .dataframe tbody tr th:only-of-type {\n",
              "        vertical-align: middle;\n",
              "    }\n",
              "\n",
              "    .dataframe tbody tr th {\n",
              "        vertical-align: top;\n",
              "    }\n",
              "\n",
              "    .dataframe thead th {\n",
              "        text-align: right;\n",
              "    }\n",
              "</style>\n",
              "<table border=\"1\" class=\"dataframe\">\n",
              "  <thead>\n",
              "    <tr style=\"text-align: right;\">\n",
              "      <th></th>\n",
              "      <th>mean_test_score</th>\n",
              "    </tr>\n",
              "  </thead>\n",
              "  <tbody>\n",
              "    <tr>\n",
              "      <th>0</th>\n",
              "      <td>0.692797</td>\n",
              "    </tr>\n",
              "  </tbody>\n",
              "</table>\n",
              "</div>"
            ],
            "text/plain": [
              "   mean_test_score\n",
              "0         0.692797"
            ]
          },
          "metadata": {
            "tags": []
          },
          "execution_count": 50
        }
      ]
    },
    {
      "cell_type": "code",
      "metadata": {
        "id": "awDAHqqxK3FU",
        "colab_type": "code",
        "colab": {}
      },
      "source": [
        "y_pred = clf.predict(X_test)"
      ],
      "execution_count": 0,
      "outputs": []
    },
    {
      "cell_type": "code",
      "metadata": {
        "id": "9HlsySkONUWO",
        "colab_type": "code",
        "colab": {}
      },
      "source": [
        "from sklearn.metrics import classification_report,confusion_matrix"
      ],
      "execution_count": 0,
      "outputs": []
    },
    {
      "cell_type": "code",
      "metadata": {
        "id": "X2Y2l47QNYl-",
        "colab_type": "code",
        "outputId": "d4dae56a-bc8c-433f-aa36-7569224707b5",
        "colab": {
          "base_uri": "https://localhost:8080/",
          "height": 188
        }
      },
      "source": [
        "print(classification_report(y_test,y_pred))"
      ],
      "execution_count": 0,
      "outputs": [
        {
          "output_type": "stream",
          "text": [
            "              precision    recall  f1-score   support\n",
            "\n",
            "           0       0.71      0.69      0.70        36\n",
            "           1       0.82      0.83      0.82        59\n",
            "\n",
            "    accuracy                           0.78        95\n",
            "   macro avg       0.77      0.76      0.76        95\n",
            "weighted avg       0.78      0.78      0.78        95\n",
            "\n"
          ],
          "name": "stdout"
        }
      ]
    },
    {
      "cell_type": "code",
      "metadata": {
        "id": "2smws2qXNt2U",
        "colab_type": "code",
        "outputId": "57fe4acb-34be-42b7-c235-7ae00908ff53",
        "colab": {
          "base_uri": "https://localhost:8080/",
          "height": 55
        }
      },
      "source": [
        "print(confusion_matrix(y_test,y_pred))"
      ],
      "execution_count": 0,
      "outputs": [
        {
          "output_type": "stream",
          "text": [
            "[[25 11]\n",
            " [10 49]]\n"
          ],
          "name": "stdout"
        }
      ]
    },
    {
      "cell_type": "markdown",
      "metadata": {
        "id": "Y8jg7nHVBNGF",
        "colab_type": "text"
      },
      "source": [
        "## **Logistic Regression- GridSearch**\n",
        "\n",
        "\n",
        "\n",
        "\n",
        "\n",
        "\n"
      ]
    },
    {
      "cell_type": "code",
      "metadata": {
        "id": "TpFfp5rplpnW",
        "colab_type": "code",
        "colab": {}
      },
      "source": [
        "from sklearn.linear_model import LogisticRegression"
      ],
      "execution_count": 0,
      "outputs": []
    },
    {
      "cell_type": "code",
      "metadata": {
        "id": "-SUIISYeAMuw",
        "colab_type": "code",
        "outputId": "a360542a-b5f8-481c-c4bd-58976c34a707",
        "colab": {
          "base_uri": "https://localhost:8080/",
          "height": 802
        }
      },
      "source": [
        "import warnings\n",
        "warnings.filterwarnings(\"ignore\")\n",
        "from sklearn.model_selection import GridSearchCV\n",
        "clf_lr = GridSearchCV(LogisticRegression(),{'C':[1,5,10],'class_weight':[None,'balanced'],\n",
        "                                         'solver':['newton-cg','lbfgs','liblinear','saga'] \n",
        "\n",
        "}, cv=5, return_train_score=False)\n",
        "clf_lr.fit(features_new,y)\n",
        "clf_lr.cv_results_\n",
        "results2 = pd.DataFrame(clf_lr.cv_results_)\n",
        "results2[['param_C','param_class_weight','param_solver','mean_test_score']].sort_values('mean_test_score',ascending=False)"
      ],
      "execution_count": 0,
      "outputs": [
        {
          "output_type": "execute_result",
          "data": {
            "text/html": [
              "<div>\n",
              "<style scoped>\n",
              "    .dataframe tbody tr th:only-of-type {\n",
              "        vertical-align: middle;\n",
              "    }\n",
              "\n",
              "    .dataframe tbody tr th {\n",
              "        vertical-align: top;\n",
              "    }\n",
              "\n",
              "    .dataframe thead th {\n",
              "        text-align: right;\n",
              "    }\n",
              "</style>\n",
              "<table border=\"1\" class=\"dataframe\">\n",
              "  <thead>\n",
              "    <tr style=\"text-align: right;\">\n",
              "      <th></th>\n",
              "      <th>param_C</th>\n",
              "      <th>param_class_weight</th>\n",
              "      <th>param_solver</th>\n",
              "      <th>mean_test_score</th>\n",
              "    </tr>\n",
              "  </thead>\n",
              "  <tbody>\n",
              "    <tr>\n",
              "      <th>8</th>\n",
              "      <td>5</td>\n",
              "      <td>None</td>\n",
              "      <td>newton-cg</td>\n",
              "      <td>0.851695</td>\n",
              "    </tr>\n",
              "    <tr>\n",
              "      <th>16</th>\n",
              "      <td>10</td>\n",
              "      <td>None</td>\n",
              "      <td>newton-cg</td>\n",
              "      <td>0.851695</td>\n",
              "    </tr>\n",
              "    <tr>\n",
              "      <th>0</th>\n",
              "      <td>1</td>\n",
              "      <td>None</td>\n",
              "      <td>newton-cg</td>\n",
              "      <td>0.847458</td>\n",
              "    </tr>\n",
              "    <tr>\n",
              "      <th>12</th>\n",
              "      <td>5</td>\n",
              "      <td>balanced</td>\n",
              "      <td>newton-cg</td>\n",
              "      <td>0.826271</td>\n",
              "    </tr>\n",
              "    <tr>\n",
              "      <th>4</th>\n",
              "      <td>1</td>\n",
              "      <td>balanced</td>\n",
              "      <td>newton-cg</td>\n",
              "      <td>0.822034</td>\n",
              "    </tr>\n",
              "    <tr>\n",
              "      <th>20</th>\n",
              "      <td>10</td>\n",
              "      <td>balanced</td>\n",
              "      <td>newton-cg</td>\n",
              "      <td>0.817797</td>\n",
              "    </tr>\n",
              "    <tr>\n",
              "      <th>22</th>\n",
              "      <td>10</td>\n",
              "      <td>balanced</td>\n",
              "      <td>liblinear</td>\n",
              "      <td>0.766949</td>\n",
              "    </tr>\n",
              "    <tr>\n",
              "      <th>14</th>\n",
              "      <td>5</td>\n",
              "      <td>balanced</td>\n",
              "      <td>liblinear</td>\n",
              "      <td>0.766949</td>\n",
              "    </tr>\n",
              "    <tr>\n",
              "      <th>6</th>\n",
              "      <td>1</td>\n",
              "      <td>balanced</td>\n",
              "      <td>liblinear</td>\n",
              "      <td>0.766949</td>\n",
              "    </tr>\n",
              "    <tr>\n",
              "      <th>10</th>\n",
              "      <td>5</td>\n",
              "      <td>None</td>\n",
              "      <td>liblinear</td>\n",
              "      <td>0.688559</td>\n",
              "    </tr>\n",
              "    <tr>\n",
              "      <th>2</th>\n",
              "      <td>1</td>\n",
              "      <td>None</td>\n",
              "      <td>liblinear</td>\n",
              "      <td>0.688559</td>\n",
              "    </tr>\n",
              "    <tr>\n",
              "      <th>18</th>\n",
              "      <td>10</td>\n",
              "      <td>None</td>\n",
              "      <td>liblinear</td>\n",
              "      <td>0.688559</td>\n",
              "    </tr>\n",
              "    <tr>\n",
              "      <th>3</th>\n",
              "      <td>1</td>\n",
              "      <td>None</td>\n",
              "      <td>saga</td>\n",
              "      <td>0.641949</td>\n",
              "    </tr>\n",
              "    <tr>\n",
              "      <th>11</th>\n",
              "      <td>5</td>\n",
              "      <td>None</td>\n",
              "      <td>saga</td>\n",
              "      <td>0.641949</td>\n",
              "    </tr>\n",
              "    <tr>\n",
              "      <th>19</th>\n",
              "      <td>10</td>\n",
              "      <td>None</td>\n",
              "      <td>saga</td>\n",
              "      <td>0.641949</td>\n",
              "    </tr>\n",
              "    <tr>\n",
              "      <th>9</th>\n",
              "      <td>5</td>\n",
              "      <td>None</td>\n",
              "      <td>lbfgs</td>\n",
              "      <td>0.608051</td>\n",
              "    </tr>\n",
              "    <tr>\n",
              "      <th>1</th>\n",
              "      <td>1</td>\n",
              "      <td>None</td>\n",
              "      <td>lbfgs</td>\n",
              "      <td>0.608051</td>\n",
              "    </tr>\n",
              "    <tr>\n",
              "      <th>17</th>\n",
              "      <td>10</td>\n",
              "      <td>None</td>\n",
              "      <td>lbfgs</td>\n",
              "      <td>0.608051</td>\n",
              "    </tr>\n",
              "    <tr>\n",
              "      <th>13</th>\n",
              "      <td>5</td>\n",
              "      <td>balanced</td>\n",
              "      <td>lbfgs</td>\n",
              "      <td>0.552966</td>\n",
              "    </tr>\n",
              "    <tr>\n",
              "      <th>5</th>\n",
              "      <td>1</td>\n",
              "      <td>balanced</td>\n",
              "      <td>lbfgs</td>\n",
              "      <td>0.552966</td>\n",
              "    </tr>\n",
              "    <tr>\n",
              "      <th>21</th>\n",
              "      <td>10</td>\n",
              "      <td>balanced</td>\n",
              "      <td>lbfgs</td>\n",
              "      <td>0.552966</td>\n",
              "    </tr>\n",
              "    <tr>\n",
              "      <th>15</th>\n",
              "      <td>5</td>\n",
              "      <td>balanced</td>\n",
              "      <td>saga</td>\n",
              "      <td>0.521186</td>\n",
              "    </tr>\n",
              "    <tr>\n",
              "      <th>7</th>\n",
              "      <td>1</td>\n",
              "      <td>balanced</td>\n",
              "      <td>saga</td>\n",
              "      <td>0.521186</td>\n",
              "    </tr>\n",
              "    <tr>\n",
              "      <th>23</th>\n",
              "      <td>10</td>\n",
              "      <td>balanced</td>\n",
              "      <td>saga</td>\n",
              "      <td>0.521186</td>\n",
              "    </tr>\n",
              "  </tbody>\n",
              "</table>\n",
              "</div>"
            ],
            "text/plain": [
              "   param_C param_class_weight param_solver  mean_test_score\n",
              "8        5               None    newton-cg         0.851695\n",
              "16      10               None    newton-cg         0.851695\n",
              "0        1               None    newton-cg         0.847458\n",
              "12       5           balanced    newton-cg         0.826271\n",
              "4        1           balanced    newton-cg         0.822034\n",
              "20      10           balanced    newton-cg         0.817797\n",
              "22      10           balanced    liblinear         0.766949\n",
              "14       5           balanced    liblinear         0.766949\n",
              "6        1           balanced    liblinear         0.766949\n",
              "10       5               None    liblinear         0.688559\n",
              "2        1               None    liblinear         0.688559\n",
              "18      10               None    liblinear         0.688559\n",
              "3        1               None         saga         0.641949\n",
              "11       5               None         saga         0.641949\n",
              "19      10               None         saga         0.641949\n",
              "9        5               None        lbfgs         0.608051\n",
              "1        1               None        lbfgs         0.608051\n",
              "17      10               None        lbfgs         0.608051\n",
              "13       5           balanced        lbfgs         0.552966\n",
              "5        1           balanced        lbfgs         0.552966\n",
              "21      10           balanced        lbfgs         0.552966\n",
              "15       5           balanced         saga         0.521186\n",
              "7        1           balanced         saga         0.521186\n",
              "23      10           balanced         saga         0.521186"
            ]
          },
          "metadata": {
            "tags": []
          },
          "execution_count": 56
        }
      ]
    },
    {
      "cell_type": "code",
      "metadata": {
        "id": "po1zWPgIOsHP",
        "colab_type": "code",
        "outputId": "8f13c0ad-1893-4304-d1f1-19729a827a0e",
        "colab": {
          "base_uri": "https://localhost:8080/",
          "height": 226
        }
      },
      "source": [
        "y_pred = clf_lr.predict(X_test)\n",
        "print(classification_report(y_test,y_pred))\n",
        "print(confusion_matrix(y_test,y_pred))"
      ],
      "execution_count": 0,
      "outputs": [
        {
          "output_type": "stream",
          "text": [
            "              precision    recall  f1-score   support\n",
            "\n",
            "           0       0.85      0.78      0.81        36\n",
            "           1       0.87      0.92      0.89        59\n",
            "\n",
            "    accuracy                           0.86        95\n",
            "   macro avg       0.86      0.85      0.85        95\n",
            "weighted avg       0.86      0.86      0.86        95\n",
            "\n",
            "[[28  8]\n",
            " [ 5 54]]\n"
          ],
          "name": "stdout"
        }
      ]
    },
    {
      "cell_type": "markdown",
      "metadata": {
        "id": "E5R6SJ50Qwks",
        "colab_type": "text"
      },
      "source": [
        "## **Decision Tree-GridSearch**"
      ]
    },
    {
      "cell_type": "code",
      "metadata": {
        "id": "kFkPekYnQ3Hd",
        "colab_type": "code",
        "colab": {}
      },
      "source": [
        "from sklearn.tree import DecisionTreeClassifier"
      ],
      "execution_count": 0,
      "outputs": []
    },
    {
      "cell_type": "code",
      "metadata": {
        "id": "0oPh7CMoRsDP",
        "colab_type": "code",
        "outputId": "cc86ddf2-1407-45cf-9d7f-ced402339c37",
        "colab": {
          "base_uri": "https://localhost:8080/",
          "height": 175
        }
      },
      "source": [
        "from sklearn.model_selection import GridSearchCV\n",
        "clf_dt = GridSearchCV(DecisionTreeClassifier(),\n",
        "                   {'criterion': ['gini','entropy'],'class_weight':[None,'balanced']\n",
        "                      }, cv=5, return_train_score=False)\n",
        "clf_dt.fit(features_new,y)\n",
        "clf_dt.cv_results_\n",
        "results2 = pd.DataFrame(clf_dt.cv_results_)\n",
        "results2[['param_criterion','param_class_weight','mean_test_score']].sort_values('mean_test_score',ascending=False)"
      ],
      "execution_count": 0,
      "outputs": [
        {
          "output_type": "execute_result",
          "data": {
            "text/html": [
              "<div>\n",
              "<style scoped>\n",
              "    .dataframe tbody tr th:only-of-type {\n",
              "        vertical-align: middle;\n",
              "    }\n",
              "\n",
              "    .dataframe tbody tr th {\n",
              "        vertical-align: top;\n",
              "    }\n",
              "\n",
              "    .dataframe thead th {\n",
              "        text-align: right;\n",
              "    }\n",
              "</style>\n",
              "<table border=\"1\" class=\"dataframe\">\n",
              "  <thead>\n",
              "    <tr style=\"text-align: right;\">\n",
              "      <th></th>\n",
              "      <th>param_criterion</th>\n",
              "      <th>param_class_weight</th>\n",
              "      <th>mean_test_score</th>\n",
              "    </tr>\n",
              "  </thead>\n",
              "  <tbody>\n",
              "    <tr>\n",
              "      <th>2</th>\n",
              "      <td>gini</td>\n",
              "      <td>balanced</td>\n",
              "      <td>0.807203</td>\n",
              "    </tr>\n",
              "    <tr>\n",
              "      <th>0</th>\n",
              "      <td>gini</td>\n",
              "      <td>None</td>\n",
              "      <td>0.805085</td>\n",
              "    </tr>\n",
              "    <tr>\n",
              "      <th>1</th>\n",
              "      <td>entropy</td>\n",
              "      <td>None</td>\n",
              "      <td>0.790254</td>\n",
              "    </tr>\n",
              "    <tr>\n",
              "      <th>3</th>\n",
              "      <td>entropy</td>\n",
              "      <td>balanced</td>\n",
              "      <td>0.775424</td>\n",
              "    </tr>\n",
              "  </tbody>\n",
              "</table>\n",
              "</div>"
            ],
            "text/plain": [
              "  param_criterion param_class_weight  mean_test_score\n",
              "2            gini           balanced         0.807203\n",
              "0            gini               None         0.805085\n",
              "1         entropy               None         0.790254\n",
              "3         entropy           balanced         0.775424"
            ]
          },
          "metadata": {
            "tags": []
          },
          "execution_count": 59
        }
      ]
    },
    {
      "cell_type": "code",
      "metadata": {
        "id": "llZ4E8GMPk10",
        "colab_type": "code",
        "outputId": "d7ea9ca7-ca54-4113-a176-897fea32f423",
        "colab": {
          "base_uri": "https://localhost:8080/",
          "height": 226
        }
      },
      "source": [
        "y_pred = clf_dt.predict(X_test)\n",
        "print(classification_report(y_test,y_pred))\n",
        "print(confusion_matrix(y_test,y_pred))"
      ],
      "execution_count": 0,
      "outputs": [
        {
          "output_type": "stream",
          "text": [
            "              precision    recall  f1-score   support\n",
            "\n",
            "           0       1.00      1.00      1.00        36\n",
            "           1       1.00      1.00      1.00        59\n",
            "\n",
            "    accuracy                           1.00        95\n",
            "   macro avg       1.00      1.00      1.00        95\n",
            "weighted avg       1.00      1.00      1.00        95\n",
            "\n",
            "[[36  0]\n",
            " [ 0 59]]\n"
          ],
          "name": "stdout"
        }
      ]
    },
    {
      "cell_type": "markdown",
      "metadata": {
        "id": "ZjTl-O4gTQC0",
        "colab_type": "text"
      },
      "source": [
        "## RandomForest-GridSearch"
      ]
    },
    {
      "cell_type": "code",
      "metadata": {
        "id": "IG736bmuTV1a",
        "colab_type": "code",
        "colab": {}
      },
      "source": [
        "from sklearn.ensemble import RandomForestClassifier"
      ],
      "execution_count": 0,
      "outputs": []
    },
    {
      "cell_type": "code",
      "metadata": {
        "id": "CTIP4tpcTtty",
        "colab_type": "code",
        "outputId": "a73507be-7190-4e9e-8d3b-a296835312c6",
        "colab": {
          "base_uri": "https://localhost:8080/",
          "height": 426
        }
      },
      "source": [
        "clf_rf = GridSearchCV(RandomForestClassifier(),{'criterion': ['gini','entropy'],'class_weight':[None,'balanced'],'n_estimators':[50,100,200]\n",
        "                      }, cv=5, return_train_score=False)\n",
        "clf_rf.fit(features_new,y)\n",
        "clf_rf.cv_results_\n",
        "results2 = pd.DataFrame(clf_rf.cv_results_)\n",
        "results2[['param_criterion','param_class_weight','param_n_estimators','mean_test_score']].sort_values('mean_test_score',ascending=False)"
      ],
      "execution_count": 0,
      "outputs": [
        {
          "output_type": "execute_result",
          "data": {
            "text/html": [
              "<div>\n",
              "<style scoped>\n",
              "    .dataframe tbody tr th:only-of-type {\n",
              "        vertical-align: middle;\n",
              "    }\n",
              "\n",
              "    .dataframe tbody tr th {\n",
              "        vertical-align: top;\n",
              "    }\n",
              "\n",
              "    .dataframe thead th {\n",
              "        text-align: right;\n",
              "    }\n",
              "</style>\n",
              "<table border=\"1\" class=\"dataframe\">\n",
              "  <thead>\n",
              "    <tr style=\"text-align: right;\">\n",
              "      <th></th>\n",
              "      <th>param_criterion</th>\n",
              "      <th>param_class_weight</th>\n",
              "      <th>param_n_estimators</th>\n",
              "      <th>mean_test_score</th>\n",
              "    </tr>\n",
              "  </thead>\n",
              "  <tbody>\n",
              "    <tr>\n",
              "      <th>4</th>\n",
              "      <td>entropy</td>\n",
              "      <td>None</td>\n",
              "      <td>100</td>\n",
              "      <td>0.868644</td>\n",
              "    </tr>\n",
              "    <tr>\n",
              "      <th>5</th>\n",
              "      <td>entropy</td>\n",
              "      <td>None</td>\n",
              "      <td>200</td>\n",
              "      <td>0.864407</td>\n",
              "    </tr>\n",
              "    <tr>\n",
              "      <th>10</th>\n",
              "      <td>entropy</td>\n",
              "      <td>balanced</td>\n",
              "      <td>100</td>\n",
              "      <td>0.864407</td>\n",
              "    </tr>\n",
              "    <tr>\n",
              "      <th>7</th>\n",
              "      <td>gini</td>\n",
              "      <td>balanced</td>\n",
              "      <td>100</td>\n",
              "      <td>0.862288</td>\n",
              "    </tr>\n",
              "    <tr>\n",
              "      <th>8</th>\n",
              "      <td>gini</td>\n",
              "      <td>balanced</td>\n",
              "      <td>200</td>\n",
              "      <td>0.860169</td>\n",
              "    </tr>\n",
              "    <tr>\n",
              "      <th>11</th>\n",
              "      <td>entropy</td>\n",
              "      <td>balanced</td>\n",
              "      <td>200</td>\n",
              "      <td>0.860169</td>\n",
              "    </tr>\n",
              "    <tr>\n",
              "      <th>1</th>\n",
              "      <td>gini</td>\n",
              "      <td>None</td>\n",
              "      <td>100</td>\n",
              "      <td>0.858051</td>\n",
              "    </tr>\n",
              "    <tr>\n",
              "      <th>2</th>\n",
              "      <td>gini</td>\n",
              "      <td>None</td>\n",
              "      <td>200</td>\n",
              "      <td>0.858051</td>\n",
              "    </tr>\n",
              "    <tr>\n",
              "      <th>0</th>\n",
              "      <td>gini</td>\n",
              "      <td>None</td>\n",
              "      <td>50</td>\n",
              "      <td>0.855932</td>\n",
              "    </tr>\n",
              "    <tr>\n",
              "      <th>3</th>\n",
              "      <td>entropy</td>\n",
              "      <td>None</td>\n",
              "      <td>50</td>\n",
              "      <td>0.855932</td>\n",
              "    </tr>\n",
              "    <tr>\n",
              "      <th>6</th>\n",
              "      <td>gini</td>\n",
              "      <td>balanced</td>\n",
              "      <td>50</td>\n",
              "      <td>0.855932</td>\n",
              "    </tr>\n",
              "    <tr>\n",
              "      <th>9</th>\n",
              "      <td>entropy</td>\n",
              "      <td>balanced</td>\n",
              "      <td>50</td>\n",
              "      <td>0.851695</td>\n",
              "    </tr>\n",
              "  </tbody>\n",
              "</table>\n",
              "</div>"
            ],
            "text/plain": [
              "   param_criterion param_class_weight param_n_estimators  mean_test_score\n",
              "4          entropy               None                100         0.868644\n",
              "5          entropy               None                200         0.864407\n",
              "10         entropy           balanced                100         0.864407\n",
              "7             gini           balanced                100         0.862288\n",
              "8             gini           balanced                200         0.860169\n",
              "11         entropy           balanced                200         0.860169\n",
              "1             gini               None                100         0.858051\n",
              "2             gini               None                200         0.858051\n",
              "0             gini               None                 50         0.855932\n",
              "3          entropy               None                 50         0.855932\n",
              "6             gini           balanced                 50         0.855932\n",
              "9          entropy           balanced                 50         0.851695"
            ]
          },
          "metadata": {
            "tags": []
          },
          "execution_count": 62
        }
      ]
    },
    {
      "cell_type": "code",
      "metadata": {
        "id": "-wli9xLfP60M",
        "colab_type": "code",
        "outputId": "97b9bfe8-cfa2-46cb-c472-badc0af6a85c",
        "colab": {
          "base_uri": "https://localhost:8080/",
          "height": 226
        }
      },
      "source": [
        "y_pred = clf_rf.predict(X_test)\n",
        "print(classification_report(y_test,y_pred))\n",
        "print(confusion_matrix(y_test,y_pred))"
      ],
      "execution_count": 0,
      "outputs": [
        {
          "output_type": "stream",
          "text": [
            "              precision    recall  f1-score   support\n",
            "\n",
            "           0       1.00      1.00      1.00        36\n",
            "           1       1.00      1.00      1.00        59\n",
            "\n",
            "    accuracy                           1.00        95\n",
            "   macro avg       1.00      1.00      1.00        95\n",
            "weighted avg       1.00      1.00      1.00        95\n",
            "\n",
            "[[36  0]\n",
            " [ 0 59]]\n"
          ],
          "name": "stdout"
        }
      ]
    },
    {
      "cell_type": "markdown",
      "metadata": {
        "id": "cGFReF2CVycW",
        "colab_type": "text"
      },
      "source": [
        "## SVM\n"
      ]
    },
    {
      "cell_type": "code",
      "metadata": {
        "id": "v8KEWPBbV3kV",
        "colab_type": "code",
        "colab": {}
      },
      "source": [
        "from sklearn import svm"
      ],
      "execution_count": 0,
      "outputs": []
    },
    {
      "cell_type": "code",
      "metadata": {
        "id": "2TDdH9RtWA1F",
        "colab_type": "code",
        "colab": {}
      },
      "source": [
        "'''\n",
        "from sklearn.model_selection import GridSearchCV\n",
        "clf_svc = GridSearchCV(svm.SVC(gamma='auto'),{'C': [0.1,1],'kernel': ['rbf','linear']\n",
        "                      }, cv=2, return_train_score=False)\n",
        "clf_svc.fit(features,y)\n",
        "clf_svc.cv_results_\n",
        "results2 = pd.DataFrame(clf_svc.cv_results_)\n",
        "results2[['param_C','param_kernel','mean_test_score']].sort_values('mean_test_score',ascending=False)\n",
        "'''\n"
      ],
      "execution_count": 0,
      "outputs": []
    },
    {
      "cell_type": "code",
      "metadata": {
        "id": "2ee8wdlPrOt_",
        "colab_type": "code",
        "colab": {}
      },
      "source": [
        "from sklearn.svm import SVC\n",
        "model_svc = SVC()"
      ],
      "execution_count": 0,
      "outputs": []
    },
    {
      "cell_type": "code",
      "metadata": {
        "id": "DsviSPH_rU8U",
        "colab_type": "code",
        "colab": {}
      },
      "source": [
        "model_svc.fit(X_train, y_train)"
      ],
      "execution_count": 0,
      "outputs": []
    },
    {
      "cell_type": "code",
      "metadata": {
        "id": "IB9py78-rfxK",
        "colab_type": "code",
        "outputId": "0ee2e261-b9ed-4e33-bd95-577d30a109c7",
        "colab": {
          "base_uri": "https://localhost:8080/",
          "height": 36
        }
      },
      "source": [
        "model_svc.score(X_test,y_test)"
      ],
      "execution_count": 0,
      "outputs": [
        {
          "output_type": "execute_result",
          "data": {
            "text/plain": [
              "0.6210526315789474"
            ]
          },
          "metadata": {
            "tags": []
          },
          "execution_count": 66
        }
      ]
    },
    {
      "cell_type": "code",
      "metadata": {
        "id": "_jgx_5mJQfA3",
        "colab_type": "code",
        "outputId": "d585a957-6430-4acc-df19-4cfd950387ad",
        "colab": {
          "base_uri": "https://localhost:8080/",
          "height": 226
        }
      },
      "source": [
        "y_pred = model_svc.predict(X_test)\n",
        "print(classification_report(y_test,y_pred))\n",
        "print(confusion_matrix(y_test,y_pred))"
      ],
      "execution_count": 0,
      "outputs": [
        {
          "output_type": "stream",
          "text": [
            "              precision    recall  f1-score   support\n",
            "\n",
            "           0       0.00      0.00      0.00        36\n",
            "           1       0.62      1.00      0.77        59\n",
            "\n",
            "    accuracy                           0.62        95\n",
            "   macro avg       0.31      0.50      0.38        95\n",
            "weighted avg       0.39      0.62      0.48        95\n",
            "\n",
            "[[ 0 36]\n",
            " [ 0 59]]\n"
          ],
          "name": "stdout"
        }
      ]
    },
    {
      "cell_type": "code",
      "metadata": {
        "id": "unztrfLjr00e",
        "colab_type": "code",
        "colab": {}
      },
      "source": [
        "model_svc1 = SVC(C=0.1,class_weight='balanced',kernel='rbf',degree=5)\n",
        "model_svc1.fit(X_train, y_train)\n",
        "model_svc1.score(X_test,y_test)"
      ],
      "execution_count": 0,
      "outputs": []
    },
    {
      "cell_type": "code",
      "metadata": {
        "id": "9bs7pCpgQWZz",
        "colab_type": "code",
        "colab": {}
      },
      "source": [
        "y_pred = model_svc1.predict(X_test)\n",
        "print(classification_report(y_test,y_pred))\n",
        "print(confusion_matrix(y_test,y_pred))"
      ],
      "execution_count": 0,
      "outputs": []
    },
    {
      "cell_type": "markdown",
      "metadata": {
        "id": "Q1FcTMhylF5m",
        "colab_type": "text"
      },
      "source": [
        "## K Nearest Neighbors Classifier"
      ]
    },
    {
      "cell_type": "code",
      "metadata": {
        "id": "Vsg6rCJ8lCBj",
        "colab_type": "code",
        "colab": {}
      },
      "source": [
        "from sklearn.neighbors import KNeighborsClassifier\n"
      ],
      "execution_count": 0,
      "outputs": []
    },
    {
      "cell_type": "code",
      "metadata": {
        "id": "-QJ_8KqJnNZo",
        "colab_type": "code",
        "outputId": "813a77c6-d422-452e-a136-12d7841c488d",
        "colab": {
          "base_uri": "https://localhost:8080/",
          "height": 206
        }
      },
      "source": [
        "neigh = GridSearchCV(KNeighborsClassifier(algorithm='auto'),{'n_neighbors': [5,10,15,20,25]\n",
        "                      }, cv=5, return_train_score=False)\n",
        "neigh.fit(features_new,y)\n",
        "neigh.cv_results_\n",
        "results2 = pd.DataFrame(neigh.cv_results_)\n",
        "results2[['param_n_neighbors','mean_test_score']].sort_values('mean_test_score',ascending=False)"
      ],
      "execution_count": 0,
      "outputs": [
        {
          "output_type": "execute_result",
          "data": {
            "text/html": [
              "<div>\n",
              "<style scoped>\n",
              "    .dataframe tbody tr th:only-of-type {\n",
              "        vertical-align: middle;\n",
              "    }\n",
              "\n",
              "    .dataframe tbody tr th {\n",
              "        vertical-align: top;\n",
              "    }\n",
              "\n",
              "    .dataframe thead th {\n",
              "        text-align: right;\n",
              "    }\n",
              "</style>\n",
              "<table border=\"1\" class=\"dataframe\">\n",
              "  <thead>\n",
              "    <tr style=\"text-align: right;\">\n",
              "      <th></th>\n",
              "      <th>param_n_neighbors</th>\n",
              "      <th>mean_test_score</th>\n",
              "    </tr>\n",
              "  </thead>\n",
              "  <tbody>\n",
              "    <tr>\n",
              "      <th>2</th>\n",
              "      <td>15</td>\n",
              "      <td>0.773305</td>\n",
              "    </tr>\n",
              "    <tr>\n",
              "      <th>3</th>\n",
              "      <td>20</td>\n",
              "      <td>0.769068</td>\n",
              "    </tr>\n",
              "    <tr>\n",
              "      <th>4</th>\n",
              "      <td>25</td>\n",
              "      <td>0.760593</td>\n",
              "    </tr>\n",
              "    <tr>\n",
              "      <th>1</th>\n",
              "      <td>10</td>\n",
              "      <td>0.752119</td>\n",
              "    </tr>\n",
              "    <tr>\n",
              "      <th>0</th>\n",
              "      <td>5</td>\n",
              "      <td>0.739407</td>\n",
              "    </tr>\n",
              "  </tbody>\n",
              "</table>\n",
              "</div>"
            ],
            "text/plain": [
              "  param_n_neighbors  mean_test_score\n",
              "2                15         0.773305\n",
              "3                20         0.769068\n",
              "4                25         0.760593\n",
              "1                10         0.752119\n",
              "0                 5         0.739407"
            ]
          },
          "metadata": {
            "tags": []
          },
          "execution_count": 70
        }
      ]
    },
    {
      "cell_type": "code",
      "metadata": {
        "id": "CrlSpJUOpp8m",
        "colab_type": "code",
        "outputId": "693e1763-f847-4527-aac1-7b2a116ff2bd",
        "colab": {
          "base_uri": "https://localhost:8080/",
          "height": 226
        }
      },
      "source": [
        "y_pred = neigh.predict(X_test)\n",
        "print(classification_report(y_test,y_pred))\n",
        "print(confusion_matrix(y_test,y_pred))"
      ],
      "execution_count": 0,
      "outputs": [
        {
          "output_type": "stream",
          "text": [
            "              precision    recall  f1-score   support\n",
            "\n",
            "           0       0.81      0.58      0.68        36\n",
            "           1       0.78      0.92      0.84        59\n",
            "\n",
            "    accuracy                           0.79        95\n",
            "   macro avg       0.80      0.75      0.76        95\n",
            "weighted avg       0.79      0.79      0.78        95\n",
            "\n",
            "[[21 15]\n",
            " [ 5 54]]\n"
          ],
          "name": "stdout"
        }
      ]
    },
    {
      "cell_type": "markdown",
      "metadata": {
        "id": "3YWWPoTgcgKL",
        "colab_type": "text"
      },
      "source": [
        "## Boosting Classifier-**GridSearch** \n"
      ]
    },
    {
      "cell_type": "code",
      "metadata": {
        "id": "NQonKfJ6cjjT",
        "colab_type": "code",
        "colab": {}
      },
      "source": [
        "from mlxtend.classifier import EnsembleVoteClassifier\n",
        "from xgboost import XGBClassifier, plot_importance\n",
        "from sklearn.ensemble import AdaBoostClassifier, GradientBoostingClassifier\n",
        "from sklearn.model_selection import cross_val_score"
      ],
      "execution_count": 0,
      "outputs": []
    },
    {
      "cell_type": "code",
      "metadata": {
        "id": "M4IZ7F81cogQ",
        "colab_type": "code",
        "outputId": "47afe5df-f60d-4c95-9807-eaa1df5767f8",
        "colab": {
          "base_uri": "https://localhost:8080/",
          "height": 93
        }
      },
      "source": [
        "# Create boosting classifiers\n",
        "ada_boost = AdaBoostClassifier()\n",
        "grad_boost = GradientBoostingClassifier()\n",
        "xgb_boost = XGBClassifier()\n",
        "\n",
        "boost_array = [ada_boost, grad_boost, xgb_boost]\n",
        "\n",
        "eclf = EnsembleVoteClassifier(clfs=[ada_boost, grad_boost, xgb_boost], voting='hard')\n",
        "\n",
        "labels = ['Ada Boost', 'Grad Boost', 'XG Boost', 'Ensemble']\n",
        "\n",
        "for clf, label in zip([ada_boost, grad_boost, xgb_boost, eclf], labels):\n",
        "    scores = cross_val_score(clf, features_new, y, cv=5, scoring='accuracy')\n",
        "    print(\"Mean: {0:.3f}, std: (+/-) {1:.3f} [{2}]\".format(scores.mean(), scores.std(), label))"
      ],
      "execution_count": 0,
      "outputs": [
        {
          "output_type": "stream",
          "text": [
            "Mean: 0.854, std: (+/-) 0.056 [Ada Boost]\n",
            "Mean: 0.854, std: (+/-) 0.054 [Grad Boost]\n",
            "Mean: 0.856, std: (+/-) 0.054 [XG Boost]\n",
            "Mean: 0.856, std: (+/-) 0.052 [Ensemble]\n"
          ],
          "name": "stdout"
        }
      ]
    },
    {
      "cell_type": "code",
      "metadata": {
        "id": "q9u8-LBae6Do",
        "colab_type": "code",
        "outputId": "29e97fe8-0ef7-4510-8257-b75779672e68",
        "colab": {
          "base_uri": "https://localhost:8080/",
          "height": 150
        }
      },
      "source": [
        "xgb_boost.fit(X_train,y_train)\n"
      ],
      "execution_count": 0,
      "outputs": [
        {
          "output_type": "execute_result",
          "data": {
            "text/plain": [
              "XGBClassifier(base_score=0.5, booster='gbtree', colsample_bylevel=1,\n",
              "              colsample_bynode=1, colsample_bytree=1, gamma=0,\n",
              "              learning_rate=0.1, max_delta_step=0, max_depth=3,\n",
              "              min_child_weight=1, missing=None, n_estimators=100, n_jobs=1,\n",
              "              nthread=None, objective='binary:logistic', random_state=0,\n",
              "              reg_alpha=0, reg_lambda=1, scale_pos_weight=1, seed=None,\n",
              "              silent=None, subsample=1, verbosity=1)"
            ]
          },
          "metadata": {
            "tags": []
          },
          "execution_count": 74
        }
      ]
    },
    {
      "cell_type": "code",
      "metadata": {
        "id": "snmNrpKd2m7v",
        "colab_type": "code",
        "outputId": "c473a8ef-db8e-4550-d581-1954d6da4b48",
        "colab": {
          "base_uri": "https://localhost:8080/",
          "height": 36
        }
      },
      "source": [
        "xgb_boost.score(X_test,y_test)"
      ],
      "execution_count": 0,
      "outputs": [
        {
          "output_type": "execute_result",
          "data": {
            "text/plain": [
              "0.9157894736842105"
            ]
          },
          "metadata": {
            "tags": []
          },
          "execution_count": 75
        }
      ]
    },
    {
      "cell_type": "code",
      "metadata": {
        "id": "4VSpVtkv4VD2",
        "colab_type": "code",
        "colab": {}
      },
      "source": [
        "from sklearn.model_selection import GridSearchCV"
      ],
      "execution_count": 0,
      "outputs": []
    },
    {
      "cell_type": "code",
      "metadata": {
        "id": "yvqRTQwE3UyM",
        "colab_type": "code",
        "outputId": "7828bbdb-eb5c-4da2-ac77-2c103e1b68c5",
        "colab": {
          "base_uri": "https://localhost:8080/",
          "height": 1000
        }
      },
      "source": [
        "xgb_boost = GridSearchCV(XGBClassifier(),{'eta': [0.3,0.4,0.5], 'max_depth':[30,50,80],'n_estimators':[100,200,400,600]\n",
        "                      }, cv=5, return_train_score=False)\n",
        "xgb_boost.fit(features_new,y)\n",
        "xgb_boost.cv_results_\n",
        "results2 = pd.DataFrame(xgb_boost.cv_results_)\n",
        "results2[['param_eta','param_max_depth','param_n_estimators','mean_test_score']].sort_values('mean_test_score',ascending=False)"
      ],
      "execution_count": 0,
      "outputs": [
        {
          "output_type": "execute_result",
          "data": {
            "text/html": [
              "<div>\n",
              "<style scoped>\n",
              "    .dataframe tbody tr th:only-of-type {\n",
              "        vertical-align: middle;\n",
              "    }\n",
              "\n",
              "    .dataframe tbody tr th {\n",
              "        vertical-align: top;\n",
              "    }\n",
              "\n",
              "    .dataframe thead th {\n",
              "        text-align: right;\n",
              "    }\n",
              "</style>\n",
              "<table border=\"1\" class=\"dataframe\">\n",
              "  <thead>\n",
              "    <tr style=\"text-align: right;\">\n",
              "      <th></th>\n",
              "      <th>param_eta</th>\n",
              "      <th>param_max_depth</th>\n",
              "      <th>param_n_estimators</th>\n",
              "      <th>mean_test_score</th>\n",
              "    </tr>\n",
              "  </thead>\n",
              "  <tbody>\n",
              "    <tr>\n",
              "      <th>0</th>\n",
              "      <td>0.3</td>\n",
              "      <td>30</td>\n",
              "      <td>100</td>\n",
              "      <td>0.838983</td>\n",
              "    </tr>\n",
              "    <tr>\n",
              "      <th>8</th>\n",
              "      <td>0.3</td>\n",
              "      <td>80</td>\n",
              "      <td>100</td>\n",
              "      <td>0.838983</td>\n",
              "    </tr>\n",
              "    <tr>\n",
              "      <th>16</th>\n",
              "      <td>0.4</td>\n",
              "      <td>50</td>\n",
              "      <td>100</td>\n",
              "      <td>0.838983</td>\n",
              "    </tr>\n",
              "    <tr>\n",
              "      <th>24</th>\n",
              "      <td>0.5</td>\n",
              "      <td>30</td>\n",
              "      <td>100</td>\n",
              "      <td>0.838983</td>\n",
              "    </tr>\n",
              "    <tr>\n",
              "      <th>12</th>\n",
              "      <td>0.4</td>\n",
              "      <td>30</td>\n",
              "      <td>100</td>\n",
              "      <td>0.838983</td>\n",
              "    </tr>\n",
              "    <tr>\n",
              "      <th>20</th>\n",
              "      <td>0.4</td>\n",
              "      <td>80</td>\n",
              "      <td>100</td>\n",
              "      <td>0.838983</td>\n",
              "    </tr>\n",
              "    <tr>\n",
              "      <th>28</th>\n",
              "      <td>0.5</td>\n",
              "      <td>50</td>\n",
              "      <td>100</td>\n",
              "      <td>0.838983</td>\n",
              "    </tr>\n",
              "    <tr>\n",
              "      <th>32</th>\n",
              "      <td>0.5</td>\n",
              "      <td>80</td>\n",
              "      <td>100</td>\n",
              "      <td>0.838983</td>\n",
              "    </tr>\n",
              "    <tr>\n",
              "      <th>4</th>\n",
              "      <td>0.3</td>\n",
              "      <td>50</td>\n",
              "      <td>100</td>\n",
              "      <td>0.838983</td>\n",
              "    </tr>\n",
              "    <tr>\n",
              "      <th>30</th>\n",
              "      <td>0.5</td>\n",
              "      <td>50</td>\n",
              "      <td>400</td>\n",
              "      <td>0.836864</td>\n",
              "    </tr>\n",
              "    <tr>\n",
              "      <th>31</th>\n",
              "      <td>0.5</td>\n",
              "      <td>50</td>\n",
              "      <td>600</td>\n",
              "      <td>0.836864</td>\n",
              "    </tr>\n",
              "    <tr>\n",
              "      <th>29</th>\n",
              "      <td>0.5</td>\n",
              "      <td>50</td>\n",
              "      <td>200</td>\n",
              "      <td>0.836864</td>\n",
              "    </tr>\n",
              "    <tr>\n",
              "      <th>27</th>\n",
              "      <td>0.5</td>\n",
              "      <td>30</td>\n",
              "      <td>600</td>\n",
              "      <td>0.836864</td>\n",
              "    </tr>\n",
              "    <tr>\n",
              "      <th>26</th>\n",
              "      <td>0.5</td>\n",
              "      <td>30</td>\n",
              "      <td>400</td>\n",
              "      <td>0.836864</td>\n",
              "    </tr>\n",
              "    <tr>\n",
              "      <th>25</th>\n",
              "      <td>0.5</td>\n",
              "      <td>30</td>\n",
              "      <td>200</td>\n",
              "      <td>0.836864</td>\n",
              "    </tr>\n",
              "    <tr>\n",
              "      <th>33</th>\n",
              "      <td>0.5</td>\n",
              "      <td>80</td>\n",
              "      <td>200</td>\n",
              "      <td>0.836864</td>\n",
              "    </tr>\n",
              "    <tr>\n",
              "      <th>34</th>\n",
              "      <td>0.5</td>\n",
              "      <td>80</td>\n",
              "      <td>400</td>\n",
              "      <td>0.836864</td>\n",
              "    </tr>\n",
              "    <tr>\n",
              "      <th>23</th>\n",
              "      <td>0.4</td>\n",
              "      <td>80</td>\n",
              "      <td>600</td>\n",
              "      <td>0.836864</td>\n",
              "    </tr>\n",
              "    <tr>\n",
              "      <th>22</th>\n",
              "      <td>0.4</td>\n",
              "      <td>80</td>\n",
              "      <td>400</td>\n",
              "      <td>0.836864</td>\n",
              "    </tr>\n",
              "    <tr>\n",
              "      <th>21</th>\n",
              "      <td>0.4</td>\n",
              "      <td>80</td>\n",
              "      <td>200</td>\n",
              "      <td>0.836864</td>\n",
              "    </tr>\n",
              "    <tr>\n",
              "      <th>18</th>\n",
              "      <td>0.4</td>\n",
              "      <td>50</td>\n",
              "      <td>400</td>\n",
              "      <td>0.836864</td>\n",
              "    </tr>\n",
              "    <tr>\n",
              "      <th>19</th>\n",
              "      <td>0.4</td>\n",
              "      <td>50</td>\n",
              "      <td>600</td>\n",
              "      <td>0.836864</td>\n",
              "    </tr>\n",
              "    <tr>\n",
              "      <th>1</th>\n",
              "      <td>0.3</td>\n",
              "      <td>30</td>\n",
              "      <td>200</td>\n",
              "      <td>0.836864</td>\n",
              "    </tr>\n",
              "    <tr>\n",
              "      <th>17</th>\n",
              "      <td>0.4</td>\n",
              "      <td>50</td>\n",
              "      <td>200</td>\n",
              "      <td>0.836864</td>\n",
              "    </tr>\n",
              "    <tr>\n",
              "      <th>15</th>\n",
              "      <td>0.4</td>\n",
              "      <td>30</td>\n",
              "      <td>600</td>\n",
              "      <td>0.836864</td>\n",
              "    </tr>\n",
              "    <tr>\n",
              "      <th>14</th>\n",
              "      <td>0.4</td>\n",
              "      <td>30</td>\n",
              "      <td>400</td>\n",
              "      <td>0.836864</td>\n",
              "    </tr>\n",
              "    <tr>\n",
              "      <th>13</th>\n",
              "      <td>0.4</td>\n",
              "      <td>30</td>\n",
              "      <td>200</td>\n",
              "      <td>0.836864</td>\n",
              "    </tr>\n",
              "    <tr>\n",
              "      <th>11</th>\n",
              "      <td>0.3</td>\n",
              "      <td>80</td>\n",
              "      <td>600</td>\n",
              "      <td>0.836864</td>\n",
              "    </tr>\n",
              "    <tr>\n",
              "      <th>10</th>\n",
              "      <td>0.3</td>\n",
              "      <td>80</td>\n",
              "      <td>400</td>\n",
              "      <td>0.836864</td>\n",
              "    </tr>\n",
              "    <tr>\n",
              "      <th>9</th>\n",
              "      <td>0.3</td>\n",
              "      <td>80</td>\n",
              "      <td>200</td>\n",
              "      <td>0.836864</td>\n",
              "    </tr>\n",
              "    <tr>\n",
              "      <th>7</th>\n",
              "      <td>0.3</td>\n",
              "      <td>50</td>\n",
              "      <td>600</td>\n",
              "      <td>0.836864</td>\n",
              "    </tr>\n",
              "    <tr>\n",
              "      <th>6</th>\n",
              "      <td>0.3</td>\n",
              "      <td>50</td>\n",
              "      <td>400</td>\n",
              "      <td>0.836864</td>\n",
              "    </tr>\n",
              "    <tr>\n",
              "      <th>5</th>\n",
              "      <td>0.3</td>\n",
              "      <td>50</td>\n",
              "      <td>200</td>\n",
              "      <td>0.836864</td>\n",
              "    </tr>\n",
              "    <tr>\n",
              "      <th>3</th>\n",
              "      <td>0.3</td>\n",
              "      <td>30</td>\n",
              "      <td>600</td>\n",
              "      <td>0.836864</td>\n",
              "    </tr>\n",
              "    <tr>\n",
              "      <th>2</th>\n",
              "      <td>0.3</td>\n",
              "      <td>30</td>\n",
              "      <td>400</td>\n",
              "      <td>0.836864</td>\n",
              "    </tr>\n",
              "    <tr>\n",
              "      <th>35</th>\n",
              "      <td>0.5</td>\n",
              "      <td>80</td>\n",
              "      <td>600</td>\n",
              "      <td>0.836864</td>\n",
              "    </tr>\n",
              "  </tbody>\n",
              "</table>\n",
              "</div>"
            ],
            "text/plain": [
              "   param_eta param_max_depth param_n_estimators  mean_test_score\n",
              "0        0.3              30                100         0.838983\n",
              "8        0.3              80                100         0.838983\n",
              "16       0.4              50                100         0.838983\n",
              "24       0.5              30                100         0.838983\n",
              "12       0.4              30                100         0.838983\n",
              "20       0.4              80                100         0.838983\n",
              "28       0.5              50                100         0.838983\n",
              "32       0.5              80                100         0.838983\n",
              "4        0.3              50                100         0.838983\n",
              "30       0.5              50                400         0.836864\n",
              "31       0.5              50                600         0.836864\n",
              "29       0.5              50                200         0.836864\n",
              "27       0.5              30                600         0.836864\n",
              "26       0.5              30                400         0.836864\n",
              "25       0.5              30                200         0.836864\n",
              "33       0.5              80                200         0.836864\n",
              "34       0.5              80                400         0.836864\n",
              "23       0.4              80                600         0.836864\n",
              "22       0.4              80                400         0.836864\n",
              "21       0.4              80                200         0.836864\n",
              "18       0.4              50                400         0.836864\n",
              "19       0.4              50                600         0.836864\n",
              "1        0.3              30                200         0.836864\n",
              "17       0.4              50                200         0.836864\n",
              "15       0.4              30                600         0.836864\n",
              "14       0.4              30                400         0.836864\n",
              "13       0.4              30                200         0.836864\n",
              "11       0.3              80                600         0.836864\n",
              "10       0.3              80                400         0.836864\n",
              "9        0.3              80                200         0.836864\n",
              "7        0.3              50                600         0.836864\n",
              "6        0.3              50                400         0.836864\n",
              "5        0.3              50                200         0.836864\n",
              "3        0.3              30                600         0.836864\n",
              "2        0.3              30                400         0.836864\n",
              "35       0.5              80                600         0.836864"
            ]
          },
          "metadata": {
            "tags": []
          },
          "execution_count": 80
        }
      ]
    }
  ]
}